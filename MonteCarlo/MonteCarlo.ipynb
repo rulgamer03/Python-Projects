{
  "nbformat": 4,
  "nbformat_minor": 0,
  "metadata": {
    "colab": {
      "name": "MonteCarlo.ipynb",
      "provenance": [],
      "collapsed_sections": [],
      "authorship_tag": "ABX9TyO1xsBNUIXdKdgMz3HJTR8Q",
      "include_colab_link": true
    },
    "kernelspec": {
      "name": "python3",
      "display_name": "Python 3"
    },
    "language_info": {
      "name": "python"
    }
  },
  "cells": [
    {
      "cell_type": "markdown",
      "metadata": {
        "id": "view-in-github",
        "colab_type": "text"
      },
      "source": [
        "<a href=\"https://colab.research.google.com/github/rulgamer03/Python-Projects/blob/main/MonteCarlo/MonteCarlo.ipynb\" target=\"_parent\"><img src=\"https://colab.research.google.com/assets/colab-badge.svg\" alt=\"Open In Colab\"/></a>"
      ]
    },
    {
      "cell_type": "markdown",
      "metadata": {
        "id": "LJwQVj4jBBcY"
      },
      "source": [
        ""
      ]
    },
    {
      "cell_type": "markdown",
      "metadata": {
        "id": "wC8FWzXeCe7G"
      },
      "source": [
        "Metodo Monte Carlo\n",
        "\n",
        "$$\\int^{b}_{a} f(x) dx = \\frac{b-a}{M}\\sum^{M}_{n=1}f(x_n)$$\n"
      ]
    },
    {
      "cell_type": "markdown",
      "metadata": {
        "id": "6VmPIBv0iAyj"
      },
      "source": [
        ""
      ]
    },
    {
      "cell_type": "markdown",
      "metadata": {
        "id": "2VDuBkKfiC0s"
      },
      "source": [
        "$$\\int^{b}_{a} \\frac{dx }{x^2+1}$$"
      ]
    },
    {
      "cell_type": "code",
      "metadata": {
        "id": "SOmCYUKQDmGt"
      },
      "source": [
        "import numpy as np\n",
        "import matplotlib.pyplot as plt\n",
        "from numpy.random import uniform as unif"
      ],
      "execution_count": 13,
      "outputs": []
    },
    {
      "cell_type": "code",
      "metadata": {
        "id": "ehYBzCaKD3Yt"
      },
      "source": [
        "fx = lambda x: 1/(x**2+1) # fx es una funcion lambda que depende de x"
      ],
      "execution_count": 14,
      "outputs": []
    },
    {
      "cell_type": "code",
      "metadata": {
        "id": "1CaVNwSJFa_w"
      },
      "source": [
        "fi = fx(2) # probando evaluarla en 2"
      ],
      "execution_count": 15,
      "outputs": []
    },
    {
      "cell_type": "code",
      "metadata": {
        "colab": {
          "base_uri": "https://localhost:8080/"
        },
        "id": "KZIa7lPhFf6G",
        "outputId": "b23b938d-72de-4fa7-d618-da48307acaf6"
      },
      "source": [
        "fi "
      ],
      "execution_count": 16,
      "outputs": [
        {
          "output_type": "execute_result",
          "data": {
            "text/plain": [
              "0.2"
            ]
          },
          "metadata": {
            "tags": []
          },
          "execution_count": 16
        }
      ]
    },
    {
      "cell_type": "code",
      "metadata": {
        "id": "q-w6HrqOG46q"
      },
      "source": [
        "M=100000"
      ],
      "execution_count": 17,
      "outputs": []
    },
    {
      "cell_type": "code",
      "metadata": {
        "id": "9iCFjwFrFpwx"
      },
      "source": [
        "b=1\n",
        "a=0\n",
        "x=unif(b,a,M) # Genero M valores aleatorios entre b y a"
      ],
      "execution_count": 18,
      "outputs": []
    },
    {
      "cell_type": "code",
      "metadata": {
        "colab": {
          "base_uri": "https://localhost:8080/"
        },
        "id": "j2A-OLrCHGKg",
        "outputId": "8f0e4ac9-427a-469d-fe31-92502d778c01"
      },
      "source": [
        "x"
      ],
      "execution_count": 19,
      "outputs": [
        {
          "output_type": "execute_result",
          "data": {
            "text/plain": [
              "array([0.86599665, 0.58620507, 0.61096497, ..., 0.85569918, 0.1129359 ,\n",
              "       0.24592975])"
            ]
          },
          "metadata": {
            "tags": []
          },
          "execution_count": 19
        }
      ]
    },
    {
      "cell_type": "code",
      "metadata": {
        "id": "7Og6h9qBHJ8X"
      },
      "source": [
        "suma = 0\n",
        "# Parte de la sumatoria\n",
        "for j in range(M):\n",
        "  suma += fx(x[j]) # sumamos el resultado de la funcion evaluada en los valores aleatorios"
      ],
      "execution_count": 20,
      "outputs": []
    },
    {
      "cell_type": "code",
      "metadata": {
        "colab": {
          "base_uri": "https://localhost:8080/"
        },
        "id": "STN_qEeUH0pt",
        "outputId": "bb3d97ae-59d1-49c0-86db-27d5c759225c"
      },
      "source": [
        "suma"
      ],
      "execution_count": 21,
      "outputs": [
        {
          "output_type": "execute_result",
          "data": {
            "text/plain": [
              "78637.74945345485"
            ]
          },
          "metadata": {
            "tags": []
          },
          "execution_count": 21
        }
      ]
    },
    {
      "cell_type": "code",
      "metadata": {
        "id": "3SblG4OAH3Hx"
      },
      "source": [
        "resultado = (b - a)*suma/M"
      ],
      "execution_count": 22,
      "outputs": []
    },
    {
      "cell_type": "code",
      "metadata": {
        "colab": {
          "base_uri": "https://localhost:8080/"
        },
        "id": "mHnImyIgIFl4",
        "outputId": "ad9f3552-406c-4a59-a18b-e7621128ba56"
      },
      "source": [
        "resultado"
      ],
      "execution_count": 23,
      "outputs": [
        {
          "output_type": "execute_result",
          "data": {
            "text/plain": [
              "0.7863774945345484"
            ]
          },
          "metadata": {
            "tags": []
          },
          "execution_count": 23
        }
      ]
    },
    {
      "cell_type": "markdown",
      "metadata": {
        "id": "xoVzyxUdj9nr"
      },
      "source": [
        "Referencia: \n",
        "https://www.youtube.com/watch?v=AofM_lkdd50&t=419s"
      ]
    }
  ]
}