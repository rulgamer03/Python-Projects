{
  "nbformat": 4,
  "nbformat_minor": 0,
  "metadata": {
    "colab": {
      "name": "MonteCarlo.ipynb",
      "provenance": [],
      "collapsed_sections": [],
      "authorship_tag": "ABX9TyOln/Jm0xqC/WHQWFSvykfb",
      "include_colab_link": true
    },
    "kernelspec": {
      "name": "python3",
      "display_name": "Python 3"
    },
    "language_info": {
      "name": "python"
    }
  },
  "cells": [
    {
      "cell_type": "markdown",
      "metadata": {
        "id": "view-in-github",
        "colab_type": "text"
      },
      "source": [
        "<a href=\"https://colab.research.google.com/github/rulgamer03/Python-Projects/blob/main/MonteCarlo2/MonteCarlo.ipynb\" target=\"_parent\"><img src=\"https://colab.research.google.com/assets/colab-badge.svg\" alt=\"Open In Colab\"/></a>"
      ]
    },
    {
      "cell_type": "markdown",
      "metadata": {
        "id": "LJwQVj4jBBcY"
      },
      "source": [
        ""
      ]
    },
    {
      "cell_type": "markdown",
      "metadata": {
        "id": "wC8FWzXeCe7G"
      },
      "source": [
        "Metodo Monte Carlo\n",
        "\n",
        "$$\\int^{b}_{a} f(x) dx = \\frac{b-a}{M}\\sum^{M}_{n=1}f(x_n)$$\n"
      ]
    },
    {
      "cell_type": "markdown",
      "metadata": {
        "id": "6VmPIBv0iAyj"
      },
      "source": [
        ""
      ]
    },
    {
      "cell_type": "markdown",
      "metadata": {
        "id": "2VDuBkKfiC0s"
      },
      "source": [
        "$$\\int^{1}_{0} \\frac{dx }{x^2+1}$$\n",
        "\n",
        "\n",
        "\n"
      ]
    },
    {
      "cell_type": "code",
      "metadata": {
        "id": "SOmCYUKQDmGt"
      },
      "source": [
        "import numpy as np\n",
        "import matplotlib.pyplot as plt\n",
        "from numpy.random import uniform as unif"
      ],
      "execution_count": 33,
      "outputs": []
    },
    {
      "cell_type": "code",
      "metadata": {
        "id": "ehYBzCaKD3Yt"
      },
      "source": [
        "fx = lambda x: 1/(x**2+1) # fx es una funcion lambda que depende de x"
      ],
      "execution_count": 34,
      "outputs": []
    },
    {
      "cell_type": "code",
      "metadata": {
        "id": "1CaVNwSJFa_w"
      },
      "source": [
        "fi = fx(2) # probando evaluarla en 2"
      ],
      "execution_count": 35,
      "outputs": []
    },
    {
      "cell_type": "code",
      "metadata": {
        "colab": {
          "base_uri": "https://localhost:8080/"
        },
        "id": "KZIa7lPhFf6G",
        "outputId": "17198ca3-8694-4457-870e-277ccd888e9a"
      },
      "source": [
        "fi "
      ],
      "execution_count": 36,
      "outputs": [
        {
          "output_type": "execute_result",
          "data": {
            "text/plain": [
              "0.2"
            ]
          },
          "metadata": {
            "tags": []
          },
          "execution_count": 36
        }
      ]
    },
    {
      "cell_type": "code",
      "metadata": {
        "id": "q-w6HrqOG46q"
      },
      "source": [
        "M=100000"
      ],
      "execution_count": 37,
      "outputs": []
    },
    {
      "cell_type": "code",
      "metadata": {
        "id": "9iCFjwFrFpwx"
      },
      "source": [
        "b=1\n",
        "a=0\n",
        "x=unif(b,a,M) # Genero M valores aleatorios entre b y a"
      ],
      "execution_count": 38,
      "outputs": []
    },
    {
      "cell_type": "code",
      "metadata": {
        "colab": {
          "base_uri": "https://localhost:8080/"
        },
        "id": "j2A-OLrCHGKg",
        "outputId": "54a325b4-1469-45ee-a81a-0cc5bf5ac98d"
      },
      "source": [
        "x"
      ],
      "execution_count": 39,
      "outputs": [
        {
          "output_type": "execute_result",
          "data": {
            "text/plain": [
              "array([0.34478901, 0.24347696, 0.02120371, ..., 0.54765224, 0.13097719,\n",
              "       0.856782  ])"
            ]
          },
          "metadata": {
            "tags": []
          },
          "execution_count": 39
        }
      ]
    },
    {
      "cell_type": "code",
      "metadata": {
        "id": "7Og6h9qBHJ8X"
      },
      "source": [
        "suma = 0\n",
        "# Parte de la sumatoria\n",
        "for j in range(M):\n",
        "  suma += fx(x[j]) # sumamos el resultado de la funcion evaluada en los valores aleatorios"
      ],
      "execution_count": 40,
      "outputs": []
    },
    {
      "cell_type": "code",
      "metadata": {
        "colab": {
          "base_uri": "https://localhost:8080/"
        },
        "id": "STN_qEeUH0pt",
        "outputId": "7761e509-0755-4aeb-9d16-b8ab8bdc7a6c"
      },
      "source": [
        "suma"
      ],
      "execution_count": 41,
      "outputs": [
        {
          "output_type": "execute_result",
          "data": {
            "text/plain": [
              "78596.9054072317"
            ]
          },
          "metadata": {
            "tags": []
          },
          "execution_count": 41
        }
      ]
    },
    {
      "cell_type": "code",
      "metadata": {
        "id": "3SblG4OAH3Hx"
      },
      "source": [
        "resultado = (b - a)*suma/M"
      ],
      "execution_count": 42,
      "outputs": []
    },
    {
      "cell_type": "code",
      "metadata": {
        "colab": {
          "base_uri": "https://localhost:8080/"
        },
        "id": "mHnImyIgIFl4",
        "outputId": "ca1dc7c3-ff64-4d6b-8b4f-40599f0ff9bc"
      },
      "source": [
        "resultado"
      ],
      "execution_count": 43,
      "outputs": [
        {
          "output_type": "execute_result",
          "data": {
            "text/plain": [
              "0.785969054072317"
            ]
          },
          "metadata": {
            "tags": []
          },
          "execution_count": 43
        }
      ]
    },
    {
      "cell_type": "markdown",
      "metadata": {
        "id": "xoVzyxUdj9nr"
      },
      "source": [
        "Referencia: \n",
        "https://www.youtube.com/watch?v=AofM_lkdd50&t=419s"
      ]
    },
    {
      "cell_type": "markdown",
      "metadata": {
        "id": "QiPdpho-mSvC"
      },
      "source": [
        "$$\\int^{4}_{0} \\frac{x^2}{x+1} dx$$"
      ]
    },
    {
      "cell_type": "code",
      "metadata": {
        "id": "lz-CM_-Cln8d"
      },
      "source": [
        "fx = lambda x: x**2 / (x+1) # fx es una funcion lambda que depende de x"
      ],
      "execution_count": 44,
      "outputs": []
    },
    {
      "cell_type": "code",
      "metadata": {
        "id": "VK7dUNf8lylL"
      },
      "source": [
        "fi = fx(2) # probando evaluarla en 2"
      ],
      "execution_count": 45,
      "outputs": []
    },
    {
      "cell_type": "code",
      "metadata": {
        "colab": {
          "base_uri": "https://localhost:8080/"
        },
        "id": "-6e0MyZ3lz2x",
        "outputId": "57db08d5-4070-4715-cbb5-ee8e95092751"
      },
      "source": [
        "fi"
      ],
      "execution_count": 46,
      "outputs": [
        {
          "output_type": "execute_result",
          "data": {
            "text/plain": [
              "1.3333333333333333"
            ]
          },
          "metadata": {
            "tags": []
          },
          "execution_count": 46
        }
      ]
    },
    {
      "cell_type": "code",
      "metadata": {
        "id": "XAKT9lZ5l2ZT"
      },
      "source": [
        "M=200000"
      ],
      "execution_count": 55,
      "outputs": []
    },
    {
      "cell_type": "code",
      "metadata": {
        "id": "Jvna_Rtml5Uk"
      },
      "source": [
        "b=4\n",
        "a=0\n",
        "x=unif(b,a,M) # Genero M valores aleatorios entre b y a"
      ],
      "execution_count": 56,
      "outputs": []
    },
    {
      "cell_type": "code",
      "metadata": {
        "colab": {
          "base_uri": "https://localhost:8080/"
        },
        "id": "5xKa1R6rl5bb",
        "outputId": "088f143b-015b-415d-d3e0-6800127d23f7"
      },
      "source": [
        "x"
      ],
      "execution_count": 57,
      "outputs": [
        {
          "output_type": "execute_result",
          "data": {
            "text/plain": [
              "array([0.87725486, 3.49823185, 3.53898052, ..., 2.37714485, 2.21125207,\n",
              "       2.83307357])"
            ]
          },
          "metadata": {
            "tags": []
          },
          "execution_count": 57
        }
      ]
    },
    {
      "cell_type": "code",
      "metadata": {
        "id": "2vfMB9zql-jU"
      },
      "source": [
        "suma = 0\n",
        "# Parte de la sumatoria\n",
        "for j in range(M):\n",
        "  suma += fx(x[j]) # sumamos el resultado de la funcion evaluada en los valores aleatorios"
      ],
      "execution_count": 58,
      "outputs": []
    },
    {
      "cell_type": "code",
      "metadata": {
        "colab": {
          "base_uri": "https://localhost:8080/"
        },
        "id": "l5r1iiq3mAgu",
        "outputId": "9d56be0f-83dc-4943-8ca6-fc05b2dd3132"
      },
      "source": [
        "suma"
      ],
      "execution_count": 59,
      "outputs": [
        {
          "output_type": "execute_result",
          "data": {
            "text/plain": [
              "280441.87860155146"
            ]
          },
          "metadata": {
            "tags": []
          },
          "execution_count": 59
        }
      ]
    },
    {
      "cell_type": "code",
      "metadata": {
        "id": "WTmNnrHbmCE1"
      },
      "source": [
        "resultado = (b - a)*suma/M"
      ],
      "execution_count": 60,
      "outputs": []
    },
    {
      "cell_type": "code",
      "metadata": {
        "colab": {
          "base_uri": "https://localhost:8080/"
        },
        "id": "eZ6D_ND8mD-9",
        "outputId": "71050ec7-7ce2-470e-bddf-15280b48d711"
      },
      "source": [
        "resultado"
      ],
      "execution_count": 61,
      "outputs": [
        {
          "output_type": "execute_result",
          "data": {
            "text/plain": [
              "5.608837572031029"
            ]
          },
          "metadata": {
            "tags": []
          },
          "execution_count": 61
        }
      ]
    }
  ]
}