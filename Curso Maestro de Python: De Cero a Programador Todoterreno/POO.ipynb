{
 "cells": [
  {
   "cell_type": "code",
   "execution_count": 3,
   "metadata": {},
   "outputs": [],
   "source": [
    "clientes = [\n",
    "    {'Nombre':'Hector','Apellidos':'Costa Guzman','dni':'111A'},\n",
    "    {'Nombre':'Raúl','Apellidos':'Chávez Carrillo','dni':'222B'}\n",
    "]"
   ]
  },
  {
   "cell_type": "code",
   "execution_count": 4,
   "metadata": {},
   "outputs": [
    {
     "data": {
      "text/plain": [
       "[{'Nombre': 'Hector', 'Apellidos': 'Costa Guzman', 'dni': '111A'},\n",
       " {'Nombre': 'Raúl', 'Apellidos': 'Chávez Carrillo', 'dni': '222B'}]"
      ]
     },
     "execution_count": 4,
     "metadata": {},
     "output_type": "execute_result"
    }
   ],
   "source": [
    "clientes"
   ]
  },
  {
   "cell_type": "code",
   "execution_count": 11,
   "metadata": {},
   "outputs": [],
   "source": [
    "def mostrar_clientes(clientes,dni):\n",
    "    for c in clientes:\n",
    "        if (dni==c['dni']):\n",
    "            print('{} {}'.format(c['Nombre'],c['Apellidos']))\n",
    "            return\n",
    "    print ('Cliente No encontrado')"
   ]
  },
  {
   "cell_type": "code",
   "execution_count": 12,
   "metadata": {},
   "outputs": [
    {
     "name": "stdout",
     "output_type": "stream",
     "text": [
      "Hector Costa Guzman\n"
     ]
    }
   ],
   "source": [
    "mostrar_clientes(clientes,'111A')"
   ]
  },
  {
   "cell_type": "code",
   "execution_count": 13,
   "metadata": {},
   "outputs": [
    {
     "name": "stdout",
     "output_type": "stream",
     "text": [
      "Cliente No encontrado\n"
     ]
    }
   ],
   "source": [
    "mostrar_clientes(clientes,'111AB')"
   ]
  },
  {
   "cell_type": "code",
   "execution_count": 16,
   "metadata": {},
   "outputs": [],
   "source": [
    "def borrar_cliente(clientes,dni):\n",
    "    for i,c in enumerate(clientes):\n",
    "        if (dni==c['dni']):\n",
    "            del(clientes[i])\n",
    "            print(str(c),\"> Borrado\")\n",
    "            return\n",
    "    print ('Cliente No encontrado')"
   ]
  },
  {
   "cell_type": "code",
   "execution_count": 17,
   "metadata": {},
   "outputs": [
    {
     "name": "stdout",
     "output_type": "stream",
     "text": [
      "{'Nombre': 'Hector', 'Apellidos': 'Costa Guzman', 'dni': '111A'} > Borrado\n"
     ]
    }
   ],
   "source": [
    "borrar_cliente(clientes,'111A')"
   ]
  },
  {
   "cell_type": "code",
   "execution_count": 18,
   "metadata": {},
   "outputs": [
    {
     "data": {
      "text/plain": [
       "[{'Nombre': 'Raúl', 'Apellidos': 'Chávez Carrillo', 'dni': '222B'}]"
      ]
     },
     "execution_count": 18,
     "metadata": {},
     "output_type": "execute_result"
    }
   ],
   "source": [
    "clientes"
   ]
  },
  {
   "cell_type": "code",
   "execution_count": 32,
   "metadata": {},
   "outputs": [],
   "source": [
    "class Cliente:\n",
    "    def __init__(self,dni,nombre,apellidos):\n",
    "        self.dni = dni\n",
    "        self.nombre = nombre\n",
    "        self.apellidos = apellidos\n",
    "    def __str__(self):\n",
    "        return '{} {}'.format(self.nombre,self.apellidos)\n",
    "\n",
    "class Empresa:\n",
    "    def __init__(self,clientes=[]):\n",
    "        self.Clientes=clientes\n",
    "    def mostrar_cliente (self,dni=None):\n",
    "        for c in self.Clientes:\n",
    "            if c.dni == dni:\n",
    "                print(c)\n",
    "                return\n",
    "        print('Cliente no encontrado')\n",
    "    def borrar_cliente(self,dni=None):\n",
    "        for i,c in enumerate(self.Clientes):\n",
    "            if c.dni == dni:\n",
    "                del(self.Clientes[i])\n",
    "                print(str(c),\"> Borrado\")\n",
    "                return\n",
    "        print('Cliente no encontrado')"
   ]
  },
  {
   "cell_type": "code",
   "execution_count": 33,
   "metadata": {},
   "outputs": [],
   "source": [
    "hector=Cliente(nombre=\"Hector\",apellidos=\"Costa Guzman\",dni=\"11A\")"
   ]
  },
  {
   "cell_type": "code",
   "execution_count": 34,
   "metadata": {},
   "outputs": [
    {
     "data": {
      "text/plain": [
       "<__main__.Cliente at 0x18cd431c580>"
      ]
     },
     "execution_count": 34,
     "metadata": {},
     "output_type": "execute_result"
    }
   ],
   "source": [
    "hector"
   ]
  },
  {
   "cell_type": "code",
   "execution_count": 35,
   "metadata": {},
   "outputs": [],
   "source": [
    "juan=Cliente(\"22A\",\"Juan\",\"Gonzalez Marquez\")"
   ]
  },
  {
   "cell_type": "code",
   "execution_count": 36,
   "metadata": {},
   "outputs": [],
   "source": [
    "empresa = Empresa(clientes=[hector,juan])"
   ]
  },
  {
   "cell_type": "code",
   "execution_count": 37,
   "metadata": {},
   "outputs": [
    {
     "data": {
      "text/plain": [
       "[<__main__.Cliente at 0x18cd431c580>, <__main__.Cliente at 0x18cd431c340>]"
      ]
     },
     "execution_count": 37,
     "metadata": {},
     "output_type": "execute_result"
    }
   ],
   "source": [
    "empresa.Clientes"
   ]
  },
  {
   "cell_type": "code",
   "execution_count": 38,
   "metadata": {},
   "outputs": [
    {
     "name": "stdout",
     "output_type": "stream",
     "text": [
      "Hector Costa Guzman\n"
     ]
    }
   ],
   "source": [
    "empresa.mostrar_cliente(dni='11A')"
   ]
  },
  {
   "cell_type": "code",
   "execution_count": 39,
   "metadata": {},
   "outputs": [
    {
     "name": "stdout",
     "output_type": "stream",
     "text": [
      "Juan Gonzalez Marquez > Borrado\n"
     ]
    }
   ],
   "source": [
    "empresa.borrar_cliente(dni='22A')"
   ]
  },
  {
   "cell_type": "code",
   "execution_count": 40,
   "metadata": {},
   "outputs": [
    {
     "data": {
      "text/plain": [
       "[<__main__.Cliente at 0x18cd431c580>]"
      ]
     },
     "execution_count": 40,
     "metadata": {},
     "output_type": "execute_result"
    }
   ],
   "source": [
    "empresa.Clientes"
   ]
  },
  {
   "cell_type": "markdown",
   "metadata": {},
   "source": [
    "# Clases y objetos"
   ]
  },
  {
   "cell_type": "code",
   "execution_count": 41,
   "metadata": {},
   "outputs": [],
   "source": [
    "# La clase es un molde para crear objetos\n",
    "class Galleta:\n",
    "    pass"
   ]
  },
  {
   "cell_type": "code",
   "execution_count": 42,
   "metadata": {},
   "outputs": [],
   "source": [
    "una_galleta = Galleta() # Instasacion \n",
    "otra_galleta = Galleta()"
   ]
  },
  {
   "cell_type": "code",
   "execution_count": 43,
   "metadata": {},
   "outputs": [
    {
     "data": {
      "text/plain": [
       "__main__.Galleta"
      ]
     },
     "execution_count": 43,
     "metadata": {},
     "output_type": "execute_result"
    }
   ],
   "source": [
    "type(una_galleta)"
   ]
  },
  {
   "cell_type": "code",
   "execution_count": 44,
   "metadata": {},
   "outputs": [
    {
     "data": {
      "text/plain": [
       "function"
      ]
     },
     "execution_count": 44,
     "metadata": {},
     "output_type": "execute_result"
    }
   ],
   "source": [
    "def hola():\n",
    "    pass\n",
    "type(hola)"
   ]
  },
  {
   "cell_type": "code",
   "execution_count": 45,
   "metadata": {},
   "outputs": [],
   "source": [
    "# Atributos\n",
    "class Galleta:\n",
    "    pass\n",
    "una_galleta=Galleta()"
   ]
  },
  {
   "cell_type": "code",
   "execution_count": 46,
   "metadata": {},
   "outputs": [],
   "source": [
    "una_galleta.sabor='Salado'"
   ]
  },
  {
   "cell_type": "code",
   "execution_count": 47,
   "metadata": {},
   "outputs": [],
   "source": [
    "una_galleta.color='Marron'"
   ]
  },
  {
   "cell_type": "code",
   "execution_count": 48,
   "metadata": {},
   "outputs": [
    {
     "name": "stdout",
     "output_type": "stream",
     "text": [
      "Salado\n"
     ]
    }
   ],
   "source": [
    "print(una_galleta.sabor)"
   ]
  },
  {
   "cell_type": "code",
   "execution_count": 49,
   "metadata": {},
   "outputs": [],
   "source": [
    "class Galleta:\n",
    "    chocolate=False\n",
    "    \n",
    "una_galleta=Galleta()"
   ]
  },
  {
   "cell_type": "code",
   "execution_count": 50,
   "metadata": {},
   "outputs": [
    {
     "data": {
      "text/plain": [
       "False"
      ]
     },
     "execution_count": 50,
     "metadata": {},
     "output_type": "execute_result"
    }
   ],
   "source": [
    "una_galleta.chocolate"
   ]
  },
  {
   "cell_type": "code",
   "execution_count": 51,
   "metadata": {},
   "outputs": [],
   "source": [
    "una_galleta.chocolate=True"
   ]
  },
  {
   "cell_type": "code",
   "execution_count": 52,
   "metadata": {},
   "outputs": [
    {
     "data": {
      "text/plain": [
       "True"
      ]
     },
     "execution_count": 52,
     "metadata": {},
     "output_type": "execute_result"
    }
   ],
   "source": [
    "una_galleta.chocolate"
   ]
  },
  {
   "cell_type": "code",
   "execution_count": 54,
   "metadata": {},
   "outputs": [
    {
     "name": "stdout",
     "output_type": "stream",
     "text": [
      "Se acaba de crear una galleta\n"
     ]
    }
   ],
   "source": [
    "class Galleta:\n",
    "    chocolate = False\n",
    "    def __init__(self): # Metodo dentro de una clase\n",
    "        print(\"Se acaba de crear una galleta\")\n",
    "g = Galleta()"
   ]
  },
  {
   "cell_type": "code",
   "execution_count": 56,
   "metadata": {},
   "outputs": [
    {
     "name": "stdout",
     "output_type": "stream",
     "text": [
      "Se acaba de crear una galleta\n",
      "Soy una galleta sin chocolate\n",
      "Soy una galleta chocolatada\n"
     ]
    }
   ],
   "source": [
    "class Galleta:\n",
    "    chocolate = False\n",
    "    def __init__(self): # Metodo dentro de una clase\n",
    "        print(\"Se acaba de crear una galleta\")\n",
    "    def chocolatear(self):\n",
    "        self.chocolate = True\n",
    "    def tiene_chocolate(self):\n",
    "        if self.chocolate:\n",
    "            print(\"Soy una galleta chocolatada\")\n",
    "        else:\n",
    "            print(\"Soy una galleta sin chocolate\")\n",
    "g = Galleta()\n",
    "g.tiene_chocolate()\n",
    "g.chocolatear()\n",
    "g.tiene_chocolate()"
   ]
  },
  {
   "cell_type": "code",
   "execution_count": 57,
   "metadata": {},
   "outputs": [
    {
     "name": "stdout",
     "output_type": "stream",
     "text": [
      "Se acaba de crear una galleta Salada y Cuadrada\n"
     ]
    }
   ],
   "source": [
    "class Galleta:\n",
    "    chocolate = False\n",
    "    def __init__(self,sabor,forma): # Metodo dentro de una clase\n",
    "        self.sabor=sabor\n",
    "        self.forma=forma\n",
    "        print(\"Se acaba de crear una galleta {} y {}\".format(sabor,forma))\n",
    "    def chocolatear(self):\n",
    "        self.chocolate = True\n",
    "    def tiene_chocolate(self):\n",
    "        if self.chocolate:\n",
    "            print(\"Soy una galleta chocolatada\")\n",
    "        else:\n",
    "            print(\"Soy una galleta sin chocolate\")\n",
    "g=Galleta('Salada','Cuadrada')"
   ]
  },
  {
   "cell_type": "code",
   "execution_count": 58,
   "metadata": {},
   "outputs": [
    {
     "ename": "TypeError",
     "evalue": "__init__() missing 2 required positional arguments: 'sabor' and 'forma'",
     "output_type": "error",
     "traceback": [
      "\u001b[1;31m---------------------------------------------------------------------------\u001b[0m",
      "\u001b[1;31mTypeError\u001b[0m                                 Traceback (most recent call last)",
      "\u001b[1;32m<ipython-input-58-e05746a14d9f>\u001b[0m in \u001b[0;36m<module>\u001b[1;34m\u001b[0m\n\u001b[1;32m----> 1\u001b[1;33m \u001b[0mg\u001b[0m\u001b[1;33m=\u001b[0m\u001b[0mGalleta\u001b[0m\u001b[1;33m(\u001b[0m\u001b[1;33m)\u001b[0m\u001b[1;33m\u001b[0m\u001b[1;33m\u001b[0m\u001b[0m\n\u001b[0m",
      "\u001b[1;31mTypeError\u001b[0m: __init__() missing 2 required positional arguments: 'sabor' and 'forma'"
     ]
    }
   ],
   "source": [
    "g=Galleta()"
   ]
  },
  {
   "cell_type": "code",
   "execution_count": 61,
   "metadata": {},
   "outputs": [],
   "source": [
    "class Galleta:\n",
    "    chocolate = False\n",
    "    def __init__(self,sabor=None,forma=None): # Metodo dentro de una clase\n",
    "        self.sabor=sabor\n",
    "        self.forma=forma\n",
    "        if sabor is not None and forma is not None:\n",
    "            print(\"Se acaba de crear una galleta {} y {}\".format(sabor,forma))\n",
    "    def chocolatear(self):\n",
    "        self.chocolate = True\n",
    "    def tiene_chocolate(self):\n",
    "        if self.chocolate:\n",
    "            print(\"Soy una galleta chocolatada\")\n",
    "        else:\n",
    "            print(\"Soy una galleta sin chocolate\")\n",
    "g=Galleta()"
   ]
  },
  {
   "cell_type": "code",
   "execution_count": 64,
   "metadata": {},
   "outputs": [
    {
     "name": "stdout",
     "output_type": "stream",
     "text": [
      "Se acaba de crear una galleta salada y cuadrada\n"
     ]
    }
   ],
   "source": [
    "g=Galleta('salada','cuadrada')"
   ]
  },
  {
   "cell_type": "code",
   "execution_count": 69,
   "metadata": {},
   "outputs": [
    {
     "name": "stdout",
     "output_type": "stream",
     "text": [
      "Se ha creado la pelicula El Padrino\n"
     ]
    }
   ],
   "source": [
    "class Pelicula:\n",
    "    # Constructor de clase\n",
    "    def __init__(self,titulo,duracion,lanzamiento):\n",
    "        self.titulo=titulo\n",
    "        self.duracion=duracion\n",
    "        self.lanzamiento=lanzamiento\n",
    "        print(\"Se ha creado la pelicula\",self.titulo)\n",
    "    \n",
    "    # Destructor de clase\n",
    "    def __del__(self):\n",
    "        print(\"Se ha borrado la pelicula\",self.titulo)\n",
    "p=Pelicula(\"El Padrino\",175,1972)"
   ]
  },
  {
   "cell_type": "code",
   "execution_count": 70,
   "metadata": {},
   "outputs": [
    {
     "name": "stdout",
     "output_type": "stream",
     "text": [
      "Se ha borrado la pelicula El Padrino\n"
     ]
    }
   ],
   "source": [
    "del(p)"
   ]
  },
  {
   "cell_type": "code",
   "execution_count": 72,
   "metadata": {},
   "outputs": [
    {
     "name": "stdout",
     "output_type": "stream",
     "text": [
      "Se ha creado la pelicula El Padrino\n"
     ]
    },
    {
     "data": {
      "text/plain": [
       "'<__main__.Pelicula object at 0x0000018CD4325520>'"
      ]
     },
     "execution_count": 72,
     "metadata": {},
     "output_type": "execute_result"
    }
   ],
   "source": [
    "p=Pelicula(\"El Padrino\",175,1972)\n",
    "str(p)"
   ]
  },
  {
   "cell_type": "code",
   "execution_count": 78,
   "metadata": {},
   "outputs": [
    {
     "name": "stdout",
     "output_type": "stream",
     "text": [
      "Se ha creado la pelicula El Padrino\n",
      "Se ha borrado la pelicula El Padrino\n"
     ]
    }
   ],
   "source": [
    "class Pelicula:\n",
    "    # Constructor de clase\n",
    "    def __init__(self,titulo,duracion,lanzamiento):\n",
    "        self.titulo=titulo\n",
    "        self.duracion=duracion\n",
    "        self.lanzamiento=lanzamiento\n",
    "        print(\"Se ha creado la pelicula\",self.titulo)\n",
    "    \n",
    "    # Destructor de clase\n",
    "    def __del__(self):\n",
    "        print(\"Se ha borrado la pelicula\",self.titulo)\n",
    "    \n",
    "    # Redefinimos el método string\n",
    "    def __str__(self):\n",
    "        return \"{} lanzada en {} con una duracion de {} minutos\".format(self.titulo,self.lanzamiento,self.duracion)\n",
    "    \n",
    "p=Pelicula(\"El Padrino\",175,1972)"
   ]
  },
  {
   "cell_type": "code",
   "execution_count": 79,
   "metadata": {},
   "outputs": [
    {
     "name": "stdout",
     "output_type": "stream",
     "text": [
      "Se ha creado la pelicula El Padrino\n",
      "Se ha borrado la pelicula El Padrino\n"
     ]
    }
   ],
   "source": [
    "p=Pelicula(\"El Padrino\",175,1972)"
   ]
  },
  {
   "cell_type": "code",
   "execution_count": 80,
   "metadata": {},
   "outputs": [
    {
     "name": "stdout",
     "output_type": "stream",
     "text": [
      "Se ha creado la pelicula El Padrino\n",
      "Se ha borrado la pelicula El Padrino\n"
     ]
    },
    {
     "data": {
      "text/plain": [
       "'El Padrino lanzada en 1972 con una duracion de 175 minutos'"
      ]
     },
     "execution_count": 80,
     "metadata": {},
     "output_type": "execute_result"
    }
   ],
   "source": [
    "p=Pelicula(\"El Padrino\",175,1972)\n",
    "str(p)"
   ]
  },
  {
   "cell_type": "code",
   "execution_count": 82,
   "metadata": {},
   "outputs": [
    {
     "data": {
      "text/plain": [
       "'El Padrino lanzada en 1972 con una duracion de 175 minutos'"
      ]
     },
     "execution_count": 82,
     "metadata": {},
     "output_type": "execute_result"
    }
   ],
   "source": [
    "str(p)"
   ]
  },
  {
   "cell_type": "code",
   "execution_count": 85,
   "metadata": {},
   "outputs": [
    {
     "name": "stdout",
     "output_type": "stream",
     "text": [
      "Se ha creado la pelicula El Padrino\n",
      "Se ha borrado la pelicula El Padrino\n"
     ]
    },
    {
     "data": {
      "text/plain": [
       "175"
      ]
     },
     "execution_count": 85,
     "metadata": {},
     "output_type": "execute_result"
    }
   ],
   "source": [
    "class Pelicula:\n",
    "    # Constructor de clase\n",
    "    def __init__(self,titulo,duracion,lanzamiento):\n",
    "        self.titulo=titulo\n",
    "        self.duracion=duracion\n",
    "        self.lanzamiento=lanzamiento\n",
    "        print(\"Se ha creado la pelicula\",self.titulo)\n",
    "    \n",
    "    # Destructor de clase\n",
    "    def __del__(self):\n",
    "        print(\"Se ha borrado la pelicula\",self.titulo)\n",
    "    \n",
    "    # Redefinimos el método string\n",
    "    def __str__(self):\n",
    "        return \"{} lanzada en {} con una duracion de {} minutos\".format(self.titulo,self.lanzamiento,self.duracion)\n",
    "    # Redefinimos el metodo len\n",
    "    def __len__(self):\n",
    "        return self.duracion\n",
    "p=Pelicula(\"El Padrino\",175,1972)\n",
    "len(p)"
   ]
  },
  {
   "cell_type": "markdown",
   "metadata": {},
   "source": [
    "# Objetos dentro de objetos\n"
   ]
  },
  {
   "cell_type": "code",
   "execution_count": 86,
   "metadata": {},
   "outputs": [],
   "source": [
    "class Pelicula:\n",
    "    # Constructor de clase\n",
    "    def __init__(self,titulo,duracion,lanzamiento):\n",
    "        self.titulo=titulo\n",
    "        self.duracion=duracion\n",
    "        self.lanzamiento=lanzamiento\n",
    "        print(\"Se ha creado la pelicula\",self.titulo)\n",
    "    \n",
    "   \n",
    "    \n",
    "    # Redefinimos el método string\n",
    "    def __str__(self):\n",
    "        return \"{} lanzada en {} con una duracion de {} minutos\".format(self.titulo,self.lanzamiento,self.duracion)"
   ]
  },
  {
   "cell_type": "code",
   "execution_count": 91,
   "metadata": {},
   "outputs": [],
   "source": [
    "class Catalogo:\n",
    "    peliculas = []\n",
    "    def __init__(self,peliculas=[]):\n",
    "        self.peliculas=peliculas\n",
    "    def agregar (self,p):\n",
    "        self.peliculas.append(p)\n",
    "    def mostrar(self):\n",
    "        for p in self.peliculas:\n",
    "            print(p)"
   ]
  },
  {
   "cell_type": "code",
   "execution_count": 92,
   "metadata": {},
   "outputs": [
    {
     "name": "stdout",
     "output_type": "stream",
     "text": [
      "Se ha creado la pelicula El Padrino\n"
     ]
    }
   ],
   "source": [
    "p=Pelicula(\"El Padrino\",175,1972)"
   ]
  },
  {
   "cell_type": "code",
   "execution_count": 93,
   "metadata": {},
   "outputs": [],
   "source": [
    "c=Catalogo([p])"
   ]
  },
  {
   "cell_type": "code",
   "execution_count": 94,
   "metadata": {},
   "outputs": [
    {
     "name": "stdout",
     "output_type": "stream",
     "text": [
      "El Padrino lanzada en 1972 con una duracion de 175 minutos\n"
     ]
    }
   ],
   "source": [
    "c.mostrar()"
   ]
  },
  {
   "cell_type": "code",
   "execution_count": 95,
   "metadata": {},
   "outputs": [
    {
     "name": "stdout",
     "output_type": "stream",
     "text": [
      "Se ha creado la pelicula El Padrino Parte 2\n"
     ]
    }
   ],
   "source": [
    "c.agregar(Pelicula(\"El Padrino Parte 2\",202,1974))"
   ]
  },
  {
   "cell_type": "code",
   "execution_count": 97,
   "metadata": {},
   "outputs": [
    {
     "name": "stdout",
     "output_type": "stream",
     "text": [
      "Se ha borrado la pelicula El Padrino\n",
      "El Padrino lanzada en 1972 con una duracion de 175 minutos\n",
      "El Padrino Parte 2 lanzada en 1974 con una duracion de 202 minutos\n"
     ]
    }
   ],
   "source": [
    "c.mostrar()"
   ]
  },
  {
   "cell_type": "markdown",
   "metadata": {},
   "source": [
    "# Encapsulamiento de atributos"
   ]
  },
  {
   "cell_type": "code",
   "execution_count": 98,
   "metadata": {},
   "outputs": [],
   "source": [
    "class Ejemplo:\n",
    "    __atributo_privado = \"Soy un atributo inalcanzable desde fuera\"\n",
    "    \n",
    "    def __metodo_privado(self):\n",
    "        print(\"Soy un atributo inalcanzable desde fuera\")"
   ]
  },
  {
   "cell_type": "code",
   "execution_count": 99,
   "metadata": {},
   "outputs": [],
   "source": [
    "e=Ejemplo()"
   ]
  },
  {
   "cell_type": "code",
   "execution_count": 100,
   "metadata": {},
   "outputs": [
    {
     "ename": "AttributeError",
     "evalue": "'Ejemplo' object has no attribute '__atributo_privado'",
     "output_type": "error",
     "traceback": [
      "\u001b[1;31m---------------------------------------------------------------------------\u001b[0m",
      "\u001b[1;31mAttributeError\u001b[0m                            Traceback (most recent call last)",
      "\u001b[1;32m<ipython-input-100-f7d87cbc25da>\u001b[0m in \u001b[0;36m<module>\u001b[1;34m\u001b[0m\n\u001b[1;32m----> 1\u001b[1;33m \u001b[0me\u001b[0m\u001b[1;33m.\u001b[0m\u001b[0m__atributo_privado\u001b[0m\u001b[1;33m\u001b[0m\u001b[1;33m\u001b[0m\u001b[0m\n\u001b[0m",
      "\u001b[1;31mAttributeError\u001b[0m: 'Ejemplo' object has no attribute '__atributo_privado'"
     ]
    }
   ],
   "source": [
    "e.__atributo_privado"
   ]
  },
  {
   "cell_type": "code",
   "execution_count": 101,
   "metadata": {},
   "outputs": [
    {
     "ename": "AttributeError",
     "evalue": "'Ejemplo' object has no attribute '__metodo_privado'",
     "output_type": "error",
     "traceback": [
      "\u001b[1;31m---------------------------------------------------------------------------\u001b[0m",
      "\u001b[1;31mAttributeError\u001b[0m                            Traceback (most recent call last)",
      "\u001b[1;32m<ipython-input-101-81c514698440>\u001b[0m in \u001b[0;36m<module>\u001b[1;34m\u001b[0m\n\u001b[1;32m----> 1\u001b[1;33m \u001b[0me\u001b[0m\u001b[1;33m.\u001b[0m\u001b[0m__metodo_privado\u001b[0m\u001b[1;33m(\u001b[0m\u001b[1;33m)\u001b[0m\u001b[1;33m\u001b[0m\u001b[1;33m\u001b[0m\u001b[0m\n\u001b[0m",
      "\u001b[1;31mAttributeError\u001b[0m: 'Ejemplo' object has no attribute '__metodo_privado'"
     ]
    }
   ],
   "source": [
    "e.__metodo_privado()"
   ]
  },
  {
   "cell_type": "code",
   "execution_count": 109,
   "metadata": {},
   "outputs": [],
   "source": [
    "class Ejemplo:\n",
    "    __atributo_privado = \"Soy un atributo inalcanzable desde fuera\"\n",
    "    \n",
    "    def __metodo_privado(self):\n",
    "        print(\"Soy un metodo inalcanzable desde fuera\")\n",
    "    def atributo_publico(self):\n",
    "        return self.__atributo_privado\n",
    "    def metodo_publico(self):\n",
    "        return self.__metodo_privado()\n",
    "    "
   ]
  },
  {
   "cell_type": "code",
   "execution_count": 110,
   "metadata": {},
   "outputs": [],
   "source": [
    "e=Ejemplo()"
   ]
  },
  {
   "cell_type": "code",
   "execution_count": 111,
   "metadata": {},
   "outputs": [
    {
     "data": {
      "text/plain": [
       "'Soy un atributo inalcanzable desde fuera'"
      ]
     },
     "execution_count": 111,
     "metadata": {},
     "output_type": "execute_result"
    }
   ],
   "source": [
    "e.atributo_publico()"
   ]
  },
  {
   "cell_type": "code",
   "execution_count": 112,
   "metadata": {},
   "outputs": [
    {
     "name": "stdout",
     "output_type": "stream",
     "text": [
      "Soy un metodo inalcanzable desde fuera\n"
     ]
    }
   ],
   "source": [
    "e.metodo_publico()"
   ]
  },
  {
   "cell_type": "markdown",
   "metadata": {},
   "source": [
    "# Practica\n",
    " "
   ]
  },
  {
   "cell_type": "code",
   "execution_count": 113,
   "metadata": {},
   "outputs": [
    {
     "data": {
      "text/plain": [
       "2.0"
      ]
     },
     "execution_count": 113,
     "metadata": {},
     "output_type": "execute_result"
    }
   ],
   "source": [
    "import math\n",
    "math.sqrt(4)"
   ]
  },
  {
   "cell_type": "code",
   "execution_count": 116,
   "metadata": {},
   "outputs": [],
   "source": [
    "import math\n",
    "class Punto:\n",
    "    def __init__(self, x=0, y=0):\n",
    "        self.x=x\n",
    "        self.y=y\n",
    "    def __str__(self):\n",
    "        return \"({},{})\".format(self.x,self.y)\n",
    "    \n",
    "    def cuadrante(self):\n",
    "        if self.x > 0 and self.y >0:\n",
    "            print(\"{} pertenece al primer cuadrante\".format(self))\n",
    "        elif self.x < 0 and self.y >0:\n",
    "            print(\"{} pertenece al segundo cuadrante\".format(self))\n",
    "        elif self.x < 0 and self.y <0:\n",
    "            print(\"{} pertenece al tercer cuadrante\".format(self))\n",
    "        elif self.x > 0 and self.y <0:\n",
    "            print(\"{} pertenece al cuarto cuadrante\".format(self))\n",
    "        else:\n",
    "            print(\"{} se encuentra sobre el origen\".format(self))\n",
    "    def vector(self,p):\n",
    "        print (\"El vector entre {} y {} es ({},{})\".format(self, p, p.x - self.x, p.y-self.y))\n",
    "    def distancia(self,p):\n",
    "        d = math.sqrt((p.x-self.x)**2+(p.y-self.y)**2)\n",
    "        print(d)"
   ]
  },
  {
   "cell_type": "code",
   "execution_count": 120,
   "metadata": {},
   "outputs": [
    {
     "name": "stdout",
     "output_type": "stream",
     "text": [
      "(2,3) pertenece al primer cuadrante\n",
      "(5,5) pertenece al primer cuadrante\n",
      "(-3,-1) pertenece al tercer cuadrante\n",
      "(0,0) se encuentra sobre el origen\n",
      "El vector entre (2,3) y (5,5) es (3,2)\n",
      "El vector entre (5,5) y (2,3) es (-3,-2)\n",
      "3.605551275463989\n",
      "3.605551275463989\n",
      "3.605551275463989\n",
      "7.0710678118654755\n",
      "3.1622776601683795\n"
     ]
    }
   ],
   "source": [
    "A=Punto(2,3)\n",
    "B=Punto(5,5)\n",
    "C=Punto(-3,-1)\n",
    "D=Punto(0,0)\n",
    "\n",
    "A.cuadrante()\n",
    "B.cuadrante()\n",
    "C.cuadrante()\n",
    "D.cuadrante()\n",
    "\n",
    "A.vector(B)\n",
    "B.vector(A)\n",
    "\n",
    "A.distancia(B)\n",
    "B.distancia(A)\n",
    "\n",
    "\n",
    "A.distancia(D)\n",
    "B.distancia(D)\n",
    "C.distancia(D)"
   ]
  },
  {
   "cell_type": "code",
   "execution_count": 124,
   "metadata": {},
   "outputs": [
    {
     "name": "stdout",
     "output_type": "stream",
     "text": [
      "6\n"
     ]
    }
   ],
   "source": [
    "class Rectangulo():\n",
    "    def __init__(self,pInicial=Punto(),pFinal=Punto()):\n",
    "        self.pInicial = pInicial\n",
    "        self.pFinal = pFinal\n",
    "    def base(self):\n",
    "        self.base=abs(self.pFinal.x - self.pInicial.x)\n",
    "    def altura(self):\n",
    "        self.altura=abs(self.pFinal.y - self.pInicial.y)\n",
    "    def area(self):\n",
    "        self.base=abs(self.pFinal.x - self.pInicial.x)\n",
    "        self.altura=abs(self.pFinal.y - self.pInicial.y)\n",
    "        self.area=self.base * self.altura\n",
    "        print(self.area)\n",
    "        \n",
    "R=Rectangulo(A,B)\n",
    "R.base()\n",
    "R.altura()\n",
    "R.area()\n",
    "\n",
    "        \n",
    "    "
   ]
  },
  {
   "cell_type": "markdown",
   "metadata": {},
   "source": [
    "# La herencia\n",
    "Capacidad de una clase de heredar atributos y metodos de otra, ademas de agregar de nuevos o modificar heredados\n",
    "Super clase \n",
    "Sub clase"
   ]
  },
  {
   "cell_type": "code",
   "execution_count": 5,
   "metadata": {},
   "outputs": [],
   "source": [
    "class Producto:\n",
    "    def __init__(self,referencia,tipo,nombre,pvp,descripcion,productor=None,distribuidor=None,isbn=None,autor=None):\n",
    "        self.referencia = referencia\n",
    "        self.tipo = tipo\n",
    "        self.nombre = nombre\n",
    "        self.pvp=pvp\n",
    "        self.descripcion=descripcion\n",
    "        self.productor = productor\n",
    "        self.distribuidor = distribuidor\n",
    "        self.isbn = isbn\n",
    "        self.autor=autor\n",
    "adorno = Producto('000A','Adorno','Vaso Adornado',15,'Vaso porcelana con dibujos')\n"
   ]
  },
  {
   "cell_type": "code",
   "execution_count": 6,
   "metadata": {},
   "outputs": [
    {
     "data": {
      "text/plain": [
       "<__main__.Producto at 0x248c9d6e7c0>"
      ]
     },
     "execution_count": 6,
     "metadata": {},
     "output_type": "execute_result"
    }
   ],
   "source": [
    "adorno"
   ]
  },
  {
   "cell_type": "code",
   "execution_count": 7,
   "metadata": {},
   "outputs": [
    {
     "data": {
      "text/plain": [
       "'Adorno'"
      ]
     },
     "execution_count": 7,
     "metadata": {},
     "output_type": "execute_result"
    }
   ],
   "source": [
    "adorno.tipo"
   ]
  },
  {
   "cell_type": "code",
   "execution_count": 12,
   "metadata": {},
   "outputs": [
    {
     "name": "stdout",
     "output_type": "stream",
     "text": [
      "REFERENCIA\t2034\n",
      "NOMBRE\t\tVaso adornado\n",
      "PVP\t\t15\n",
      "DESCRIPCION\tVaso de porcelana adornado con arboles\n"
     ]
    }
   ],
   "source": [
    "## Producto\n",
    "### Adorno Alimento Libro \n",
    "\n",
    "class Producto:\n",
    "    def __init__(self,referencia,nombre,pvp,descripcion):\n",
    "        self.referencia = referencia\n",
    "        self.nombre = nombre\n",
    "        self.pvp=pvp\n",
    "        self.descripcion=descripcion\n",
    "    def __str__(self):\n",
    "        return \"\"\"\\\n",
    "REFERENCIA\\t{}\n",
    "NOMBRE\\t\\t{}\n",
    "PVP\\t\\t{}\n",
    "DESCRIPCION\\t{}\"\"\".format(self.referencia,self.nombre,self.pvp,self.descripcion)\n",
    "class Adorno(Producto):\n",
    "    pass\n",
    "\n",
    "a=Adorno(2034,\"Vaso adornado\",15,\"Vaso de porcelana adornado con arboles\")\n",
    "print(a)"
   ]
  },
  {
   "cell_type": "code",
   "execution_count": 13,
   "metadata": {},
   "outputs": [
    {
     "name": "stdout",
     "output_type": "stream",
     "text": [
      "REFERENCIA\t2035\n",
      "NOMBRE\t\tBotella de Aceite de Oliva Extra\n",
      "PVP\t\t5\n",
      "DESCRIPCION\t250 ML\n",
      "PRODUCTOR\tNUTRIOLI\n",
      "DISTRIBUIDOR\tDistribuiciones SA\n"
     ]
    }
   ],
   "source": [
    "class Alimento(Producto):\n",
    "    productor=\"\"\n",
    "    distribuidor=\"\"\n",
    "    \n",
    "    def __str__(self):\n",
    "        return \"\"\"\\\n",
    "REFERENCIA\\t{}\n",
    "NOMBRE\\t\\t{}\n",
    "PVP\\t\\t{}\n",
    "DESCRIPCION\\t{}\n",
    "PRODUCTOR\\t{}\n",
    "DISTRIBUIDOR\\t{}\"\"\".format(self.referencia,self.nombre,self.pvp,self.descripcion,self.productor,self.distribuidor)\n",
    "\n",
    "al = Alimento(2035,\"Botella de Aceite de Oliva Extra\",5,\"250 ML\")\n",
    "al.productor=\"NUTRIOLI\"\n",
    "al.distribuidor = \"Distribuiciones SA\"\n",
    "\n",
    "print(al)"
   ]
  },
  {
   "cell_type": "code",
   "execution_count": 15,
   "metadata": {},
   "outputs": [
    {
     "name": "stdout",
     "output_type": "stream",
     "text": [
      "REFERENCIA\t2016\n",
      "NOMBRE\t\tCocina\n",
      "PVP\t\t9\n",
      "DESCRIPCION\tRecetas\n",
      "ISBN\t0-123456-78-9\n",
      "AUTOR\tMaria\n"
     ]
    }
   ],
   "source": [
    "class Libro(Producto):\n",
    "    isbn=\"\"\n",
    "    autor=\"\"\n",
    "    \n",
    "    def __str__(self):\n",
    "        return \"\"\"\\\n",
    "REFERENCIA\\t{}\n",
    "NOMBRE\\t\\t{}\n",
    "PVP\\t\\t{}\n",
    "DESCRIPCION\\t{}\n",
    "ISBN\\t{}\n",
    "AUTOR\\t{}\"\"\".format(self.referencia,self.nombre,self.pvp,self.descripcion,self.isbn,self.autor)\n",
    "l=Libro(2016,\"Cocina\",9,\"Recetas\")\n",
    "l.isbn=\"0-123456-78-9\"\n",
    "l.autor=\"Maria\"\n",
    "print(l)"
   ]
  },
  {
   "cell_type": "code",
   "execution_count": 16,
   "metadata": {},
   "outputs": [],
   "source": [
    "ad=Adorno(2034,\"Vaso adornado\",15,\"Vaso de porcelana adornado con arboles\")\n",
    "al = Alimento(2035,\"Botella de Aceite de Oliva Extra\",5,\"250 ML\")\n",
    "al.productor=\"NUTRIOLI\"\n",
    "al.distribuidor = \"Distribuiciones SA\"\n",
    "li=Libro(2016,\"Cocina\",9,\"Recetas\")\n",
    "li.isbn=\"0-123456-78-9\"\n",
    "li.autor=\"Maria\"\n",
    "\n",
    "productos=[ad,al]\n",
    "productos.append(li)"
   ]
  },
  {
   "cell_type": "code",
   "execution_count": 17,
   "metadata": {},
   "outputs": [
    {
     "data": {
      "text/plain": [
       "[<__main__.Adorno at 0x248c9e48d90>,\n",
       " <__main__.Alimento at 0x248c9e48d60>,\n",
       " <__main__.Libro at 0x248c9e48e50>]"
      ]
     },
     "execution_count": 17,
     "metadata": {},
     "output_type": "execute_result"
    }
   ],
   "source": [
    "productos"
   ]
  },
  {
   "cell_type": "code",
   "execution_count": 18,
   "metadata": {},
   "outputs": [
    {
     "name": "stdout",
     "output_type": "stream",
     "text": [
      "REFERENCIA\t2034\n",
      "NOMBRE\t\tVaso adornado\n",
      "PVP\t\t15\n",
      "DESCRIPCION\tVaso de porcelana adornado con arboles \n",
      "\n",
      "REFERENCIA\t2035\n",
      "NOMBRE\t\tBotella de Aceite de Oliva Extra\n",
      "PVP\t\t5\n",
      "DESCRIPCION\t250 ML\n",
      "PRODUCTOR\tNUTRIOLI\n",
      "DISTRIBUIDOR\tDistribuiciones SA \n",
      "\n",
      "REFERENCIA\t2016\n",
      "NOMBRE\t\tCocina\n",
      "PVP\t\t9\n",
      "DESCRIPCION\tRecetas\n",
      "ISBN\t0-123456-78-9\n",
      "AUTOR\tMaria \n",
      "\n"
     ]
    }
   ],
   "source": [
    "for p in productos:\n",
    "    print(p,\"\\n\")"
   ]
  },
  {
   "cell_type": "code",
   "execution_count": 20,
   "metadata": {},
   "outputs": [
    {
     "name": "stdout",
     "output_type": "stream",
     "text": [
      "2034 Vaso adornado\n",
      "2035 Botella de Aceite de Oliva Extra\n",
      "2016 Cocina\n"
     ]
    }
   ],
   "source": [
    "for p in productos:\n",
    "    print(p.referencia,p.nombre)"
   ]
  },
  {
   "cell_type": "code",
   "execution_count": 21,
   "metadata": {},
   "outputs": [
    {
     "name": "stdout",
     "output_type": "stream",
     "text": [
      "2034 Vaso adornado\n",
      "2035 Botella de Aceite de Oliva Extra NUTRIOLI\n",
      "2016 Cocina Cocina 0-123456-78-9\n"
     ]
    }
   ],
   "source": [
    "for p in productos:\n",
    "    if (isinstance(p,Adorno)):\n",
    "        print(p.referencia,p.nombre)\n",
    "    elif (isinstance(p,Alimento)):\n",
    "        print(p.referencia,p.nombre,p.productor)\n",
    "    elif (isinstance(p,Libro)):\n",
    "        print(p.referencia,p.nombre,p.nombre,p.isbn)"
   ]
  },
  {
   "cell_type": "code",
   "execution_count": 23,
   "metadata": {},
   "outputs": [
    {
     "name": "stdout",
     "output_type": "stream",
     "text": [
      "REFERENCIA\t2035\n",
      "NOMBRE\t\tBotella de Aceite de Oliva Extra\n",
      "PVP\t\t4.05\n",
      "DESCRIPCION\t250 ML\n",
      "PRODUCTOR\tNUTRIOLI\n",
      "DISTRIBUIDOR\tDistribuiciones SA\n"
     ]
    }
   ],
   "source": [
    "def rebajar_producto(p,rebaja):\n",
    "    \"Devuelve un producto con una rebaja en porcentaje de su precio\"\n",
    "    p.pvp = p.pvp-(p.pvp/100*rebaja)\n",
    "    return p\n",
    "\n",
    "al_rebajado =rebajar_producto(al,10)\n",
    "print(al_rebajado)\n",
    "\n",
    "### LOS OBJETOS SE PASAN POR REFERENCIA SE CAMBIA AL ORIGINAL"
   ]
  },
  {
   "cell_type": "code",
   "execution_count": 25,
   "metadata": {},
   "outputs": [
    {
     "name": "stdout",
     "output_type": "stream",
     "text": [
      "[1, 2, 3, 2] [1, 2, 3, 2]\n",
      "[1, 2, 3, 2] [1, 2, 3, 2, 45]\n"
     ]
    }
   ],
   "source": [
    "L1 = [1, 2, 3]\n",
    "L2 = L1\n",
    "L2.append(2)\n",
    "print(L1, L2)\n",
    "L3=L1[:]\n",
    "L3.append(45)\n",
    "print(L1, L3)"
   ]
  },
  {
   "cell_type": "code",
   "execution_count": 26,
   "metadata": {},
   "outputs": [],
   "source": [
    "import copy\n",
    "\n",
    "copia_ad = copy.copy(ad)"
   ]
  },
  {
   "cell_type": "code",
   "execution_count": 27,
   "metadata": {},
   "outputs": [
    {
     "name": "stdout",
     "output_type": "stream",
     "text": [
      "REFERENCIA\t2034\n",
      "NOMBRE\t\tVaso adornado\n",
      "PVP\t\t15\n",
      "DESCRIPCION\tVaso de porcelana adornado con arboles\n"
     ]
    }
   ],
   "source": [
    "print(copia_ad)"
   ]
  },
  {
   "cell_type": "code",
   "execution_count": 28,
   "metadata": {},
   "outputs": [
    {
     "name": "stdout",
     "output_type": "stream",
     "text": [
      "REFERENCIA\t2034\n",
      "NOMBRE\t\tVaso adornado\n",
      "PVP\t\t25\n",
      "DESCRIPCION\tVaso de porcelana adornado con arboles\n"
     ]
    }
   ],
   "source": [
    "copia_ad.pvp = 25\n",
    "print(copia_ad)"
   ]
  },
  {
   "cell_type": "code",
   "execution_count": 29,
   "metadata": {},
   "outputs": [
    {
     "name": "stdout",
     "output_type": "stream",
     "text": [
      "REFERENCIA\t2034\n",
      "NOMBRE\t\tVaso adornado\n",
      "PVP\t\t15\n",
      "DESCRIPCION\tVaso de porcelana adornado con arboles\n"
     ]
    }
   ],
   "source": [
    "print(ad)"
   ]
  },
  {
   "cell_type": "markdown",
   "metadata": {},
   "source": [
    "**Polimorfia:** Propieda de la herencia que objetos de distintas subclase puedene responder una misma acción"
   ]
  },
  {
   "cell_type": "markdown",
   "metadata": {},
   "source": [
    "# Herencia múltiple"
   ]
  },
  {
   "cell_type": "code",
   "execution_count": 31,
   "metadata": {},
   "outputs": [
    {
     "name": "stdout",
     "output_type": "stream",
     "text": [
      "Soy clase B\n"
     ]
    }
   ],
   "source": [
    "class A:\n",
    "    def __init__(self):\n",
    "        print(\"Soy clase A\")\n",
    "    def a(self):\n",
    "        print(\"Este metodo lo heredo de A\")\n",
    "\n",
    "class B:\n",
    "    def __init__(self):\n",
    "        print(\"Soy clase B\")\n",
    "    def b(self):\n",
    "        print(\"Este metodo lo heredo de B\")\n",
    "\n",
    "class C(B,A): # Gana el de la izquierda\n",
    "    def c(self):\n",
    "        print(\"Este metodo es de C\")\n",
    "        \n",
    "c=C()"
   ]
  },
  {
   "cell_type": "code",
   "execution_count": 32,
   "metadata": {},
   "outputs": [
    {
     "name": "stdout",
     "output_type": "stream",
     "text": [
      "Este metodo lo heredo de A\n"
     ]
    }
   ],
   "source": [
    "c.a()"
   ]
  },
  {
   "cell_type": "code",
   "execution_count": 33,
   "metadata": {},
   "outputs": [
    {
     "name": "stdout",
     "output_type": "stream",
     "text": [
      "Este metodo lo heredo de B\n"
     ]
    }
   ],
   "source": [
    "c.b()"
   ]
  },
  {
   "cell_type": "code",
   "execution_count": 34,
   "metadata": {},
   "outputs": [
    {
     "name": "stdout",
     "output_type": "stream",
     "text": [
      "Este metodo es de C\n"
     ]
    }
   ],
   "source": [
    "c.c()"
   ]
  },
  {
   "cell_type": "markdown",
   "metadata": {},
   "source": [
    "# Herencia"
   ]
  },
  {
   "cell_type": "code",
   "execution_count": 38,
   "metadata": {},
   "outputs": [
    {
     "name": "stdout",
     "output_type": "stream",
     "text": [
      "color Azul, 150 km/h, 4 ruedas, 1200 cc\n"
     ]
    }
   ],
   "source": [
    "class Vehiculo():\n",
    "    def __init__(self,color,ruedas):\n",
    "        self.color = color\n",
    "        self.ruedas = ruedas\n",
    "    def __str__(self):\n",
    "        return \"color {},{} ruedas\".format(self.color,self.ruedas)\n",
    "    \n",
    "class Coche(Vehiculo):\n",
    "    def __init__(self,color,ruedas,velocidad,cilindrada):\n",
    "        self.color = color\n",
    "        self.ruedas = ruedas\n",
    "        self.velocidad = velocidad\n",
    "        self.cilindrada = cilindrada\n",
    "    def __str__(self):\n",
    "        return \"color {}, {} km/h, {} ruedas, {} cc\".format(self.color,self.velocidad,self.ruedas,self.cilindrada)\n",
    "\n",
    "c=Coche(\"Azul\",4,150,1200)\n",
    "print(c)"
   ]
  },
  {
   "cell_type": "code",
   "execution_count": 40,
   "metadata": {},
   "outputs": [
    {
     "name": "stdout",
     "output_type": "stream",
     "text": [
      "color Azul,4 ruedas,150 km/h, 1200 cc\n"
     ]
    }
   ],
   "source": [
    "## Para ahorrar\n",
    "\n",
    "class Vehiculo():\n",
    "    def __init__(self,color,ruedas):\n",
    "        self.color = color\n",
    "        self.ruedas = ruedas\n",
    "    def __str__(self):\n",
    "        return \"color {},{} ruedas\".format(self.color,self.ruedas)\n",
    "    \n",
    "class Coche(Vehiculo):\n",
    "    def __init__(self,color,ruedas,velocidad,cilindrada):\n",
    "        Vehiculo.__init__(self,color,ruedas)\n",
    "        self.velocidad = velocidad\n",
    "        self.cilindrada = cilindrada\n",
    "    def __str__(self):\n",
    "        return Vehiculo.__str__(self) + \",{} km/h, {} cc\".format(self.velocidad,self.cilindrada)\n",
    "\n",
    "c=Coche(\"Azul\",4,150,1200)\n",
    "print(c)"
   ]
  },
  {
   "cell_type": "code",
   "execution_count": 44,
   "metadata": {},
   "outputs": [
    {
     "name": "stdout",
     "output_type": "stream",
     "text": [
      "color Azul,4 ruedas,150 km/h, 1200 cc\n"
     ]
    }
   ],
   "source": [
    "## Usando SUper nos ahorramos darle el self y tener que escribir Vehiculo\n",
    "class Vehiculo():\n",
    "    def __init__(self,color,ruedas):\n",
    "        self.color = color\n",
    "        self.ruedas = ruedas\n",
    "    def __str__(self):\n",
    "        return \"color {},{} ruedas\".format(self.color,self.ruedas)\n",
    "    \n",
    "class Coche(Vehiculo):\n",
    "    def __init__(self,color,ruedas,velocidad,cilindrada):\n",
    "        super().__init__(color,ruedas)\n",
    "        self.velocidad = velocidad\n",
    "        self.cilindrada = cilindrada\n",
    "    def __str__(self):\n",
    "        return super().__str__() + \",{} km/h, {} cc\".format(self.velocidad,self.cilindrada)\n",
    "\n",
    "c=Coche(\"Azul\",4,150,1200)\n",
    "print(c)"
   ]
  },
  {
   "cell_type": "code",
   "execution_count": 53,
   "metadata": {},
   "outputs": [
    {
     "name": "stdout",
     "output_type": "stream",
     "text": [
      "Coche color azul,4 ruedas,150 km/h, 1200 cc\n",
      "Camioneta color blanco,4 ruedas,100 km/h, 1300 cc, 1500 kg\n",
      "Bicicleta color verde,2 ruedas, Urbana\n",
      "Motocicleta color negro,2 ruedas, deportiva,180 km/h, 900 cc\n",
      " - - - - - - -\n",
      "Se han encontrado 2 vehiculos con 2 ruedas\n",
      "***********************\n",
      "Bicicleta color verde,2 ruedas, Urbana\n",
      "Motocicleta color negro,2 ruedas, deportiva,180 km/h, 900 cc\n"
     ]
    }
   ],
   "source": [
    "## Usando SUper nos ahorramos darle el self y tener que escribir Vehiculo\n",
    "class Vehiculo():\n",
    "    def __init__(self,color,ruedas):\n",
    "        self.color = color\n",
    "        self.ruedas = ruedas\n",
    "    def __str__(self):\n",
    "        return \"color {},{} ruedas\".format(self.color,self.ruedas)\n",
    "    \n",
    "class Coche(Vehiculo):\n",
    "    def __init__(self,color,ruedas,velocidad,cilindrada):\n",
    "        super().__init__(color,ruedas)\n",
    "        self.velocidad = velocidad\n",
    "        self.cilindrada = cilindrada\n",
    "    def __str__(self):\n",
    "        return super().__str__() + \",{} km/h, {} cc\".format(self.velocidad,self.cilindrada)\n",
    "\n",
    "class Camioneta(Coche):\n",
    "    def __init__(self,color,ruedas,velocidad,cilindrada,carga):\n",
    "        super().__init__(color,ruedas,velocidad,cilindrada)\n",
    "        self.carga = carga\n",
    "    def __str__(self):\n",
    "        return super().__str__() + \", {} kg\".format(self.carga)\n",
    "    \n",
    "class  Bicicleta(Vehiculo):\n",
    "    def __init__(self,color,ruedas,tipo):\n",
    "        super().__init__(color,ruedas)\n",
    "        self.tipo = tipo\n",
    "    def __str__(self):\n",
    "        return super().__str__() + \", {}\".format(self.tipo)\n",
    "    \n",
    "class Motocicleta(Bicicleta):\n",
    "    \n",
    "    def __init__(self,color,ruedas,tipo,velocidad,cilindrada):\n",
    "        super().__init__(color,ruedas,tipo)\n",
    "        self.velocidad = velocidad\n",
    "        self.cilindrada = cilindrada\n",
    "    def __str__(self):\n",
    "        return super().__str__() + \",{} km/h, {} cc\".format(self.velocidad,self.cilindrada)\n",
    "    \n",
    "vehiculos = [\n",
    "    Coche(\"azul\",4,150,1200),\n",
    "    Camioneta(\"blanco\",4,100,1300,1500),\n",
    "    Bicicleta(\"verde\",2,\"Urbana\"),\n",
    "    Motocicleta(\"negro\",2,\"deportiva\",180,900)\n",
    "]\n",
    "    \n",
    "def catalogar(lista):\n",
    "    for v in lista:\n",
    "        print(\"{} {}\".format(type(v).__name__,v))\n",
    "catalogar(vehiculos)\n",
    "\n",
    "print(\" -\"*7)\n",
    "    \n",
    "def catalogar_por_ruedas(lista,ruedas=None):\n",
    "    if ruedas!= None:\n",
    "        contador = 0\n",
    "        for v in lista:\n",
    "            if v.ruedas == ruedas:\n",
    "                contador+=1\n",
    "        print(\"Se han encontrado {} vehiculos con {} ruedas\".format(contador,ruedas))\n",
    "        print(\"*\"*23)\n",
    "            \n",
    "    for v in lista:\n",
    "        if ruedas == None:\n",
    "            print(\"{} {}\".format(type(v).__name__,v))\n",
    "        elif v.ruedas==ruedas:\n",
    "            print(\"{} {}\".format(type(v).__name__,v))\n",
    "            \n",
    "            \n",
    "catalogar_por_ruedas(vehiculos,2)"
   ]
  },
  {
   "cell_type": "code",
   "execution_count": null,
   "metadata": {},
   "outputs": [],
   "source": []
  }
 ],
 "metadata": {
  "kernelspec": {
   "display_name": "Python 3",
   "language": "python",
   "name": "python3"
  },
  "language_info": {
   "codemirror_mode": {
    "name": "ipython",
    "version": 3
   },
   "file_extension": ".py",
   "mimetype": "text/x-python",
   "name": "python",
   "nbconvert_exporter": "python",
   "pygments_lexer": "ipython3",
   "version": "3.8.3"
  }
 },
 "nbformat": 4,
 "nbformat_minor": 4
}
