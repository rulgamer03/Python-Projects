{
 "cells": [
  {
   "cell_type": "code",
   "execution_count": 3,
   "metadata": {},
   "outputs": [],
   "source": [
    "valores=[\"Hola\", \"Mundo\"];\n",
    "resultado=[];\n",
    "for i in valores:\n",
    "    resultado.append(i[0])\n",
    "    "
   ]
  },
  {
   "cell_type": "code",
   "execution_count": 4,
   "metadata": {},
   "outputs": [
    {
     "data": {
      "text/plain": [
       "['H', 'M']"
      ]
     },
     "execution_count": 4,
     "metadata": {},
     "output_type": "execute_result"
    }
   ],
   "source": [
    "resultado\n"
   ]
  },
  {
   "cell_type": "code",
   "execution_count": 5,
   "metadata": {},
   "outputs": [],
   "source": [
    "matriz=[[4,5,6],[3,34,23]]\n",
    "# Primero recorremos todas las filas de la matriz con un for\n",
    "# Necesitamos usar un enumerador para poder guardar su índice de fila\n",
    "for i, fila in enumerate(matriz):\n",
    "    # Dentro de cada fila recorremos cada columna con otro for\n",
    "    # Necesitamos usar un enumerador para poder guardar su índice de columna\n",
    "    for j, columna in enumerate(fila):\n",
    "        # A partir de ambos índices podemos comprobar la celda actual\n",
    "        # Si es par asignamos a la celda un 0\n",
    "        if matriz[i][j] % 2 == 0:\n",
    "            matriz[i][j] = 0\n",
    "        # En caso contrario, si es impar, le asignamos un 1\n",
    "        else:\n",
    "            matriz[i][j] = 1\n",
    "\n"
   ]
  },
  {
   "cell_type": "code",
   "execution_count": 6,
   "metadata": {},
   "outputs": [
    {
     "data": {
      "text/plain": [
       "[[0, 1, 0], [1, 0, 1]]"
      ]
     },
     "execution_count": 6,
     "metadata": {},
     "output_type": "execute_result"
    }
   ],
   "source": [
    "matriz"
   ]
  },
  {
   "cell_type": "code",
   "execution_count": 7,
   "metadata": {},
   "outputs": [],
   "source": [
    "iniciales=[\"Pan\",\"Casa\",\"Lego\"]\n",
    "for i,cadena in enumerate(iniciales):\n",
    "    # Modificamos cada cadena por su letra inicial\n",
    "    iniciales[i] = iniciales[i][0]"
   ]
  },
  {
   "cell_type": "code",
   "execution_count": 17,
   "metadata": {},
   "outputs": [
    {
     "data": {
      "text/plain": [
       "['P', 'C', 'L']"
      ]
     },
     "execution_count": 17,
     "metadata": {},
     "output_type": "execute_result"
    }
   ],
   "source": [
    "iniciales"
   ]
  },
  {
   "cell_type": "code",
   "execution_count": 9,
   "metadata": {},
   "outputs": [
    {
     "name": "stdout",
     "output_type": "stream",
     "text": [
      "1\n",
      "3\n",
      "5\n",
      "7\n",
      "9\n"
     ]
    }
   ],
   "source": [
    "for n in range(10):\n",
    "    if n % 2 != 0:\n",
    "        print(n)"
   ]
  },
  {
   "cell_type": "code",
   "execution_count": 10,
   "metadata": {},
   "outputs": [],
   "source": [
    "tupla = (100,\"Hola\",[1,2,3,4],-50)"
   ]
  },
  {
   "cell_type": "code",
   "execution_count": 11,
   "metadata": {},
   "outputs": [
    {
     "data": {
      "text/plain": [
       "(100, 'Hola', [1, 2, 3, 4], -50)"
      ]
     },
     "execution_count": 11,
     "metadata": {},
     "output_type": "execute_result"
    }
   ],
   "source": [
    "tupla"
   ]
  },
  {
   "cell_type": "code",
   "execution_count": 12,
   "metadata": {},
   "outputs": [
    {
     "data": {
      "text/plain": [
       "100"
      ]
     },
     "execution_count": 12,
     "metadata": {},
     "output_type": "execute_result"
    }
   ],
   "source": [
    "tupla[0]"
   ]
  },
  {
   "cell_type": "code",
   "execution_count": 13,
   "metadata": {},
   "outputs": [
    {
     "data": {
      "text/plain": [
       "-50"
      ]
     },
     "execution_count": 13,
     "metadata": {},
     "output_type": "execute_result"
    }
   ],
   "source": [
    "tupla[-1]"
   ]
  },
  {
   "cell_type": "code",
   "execution_count": 14,
   "metadata": {},
   "outputs": [
    {
     "data": {
      "text/plain": [
       "('Hola', [1, 2, 3, 4], -50)"
      ]
     },
     "execution_count": 14,
     "metadata": {},
     "output_type": "execute_result"
    }
   ],
   "source": [
    "tupla[1:]"
   ]
  },
  {
   "cell_type": "code",
   "execution_count": 15,
   "metadata": {},
   "outputs": [
    {
     "data": {
      "text/plain": [
       "2"
      ]
     },
     "execution_count": 15,
     "metadata": {},
     "output_type": "execute_result"
    }
   ],
   "source": [
    "tupla[2][1]"
   ]
  },
  {
   "cell_type": "code",
   "execution_count": 16,
   "metadata": {},
   "outputs": [
    {
     "ename": "TypeError",
     "evalue": "'tuple' object does not support item assignment",
     "output_type": "error",
     "traceback": [
      "\u001b[1;31m---------------------------------------------------------------------------\u001b[0m",
      "\u001b[1;31mTypeError\u001b[0m                                 Traceback (most recent call last)",
      "\u001b[1;32m<ipython-input-16-b30755c90842>\u001b[0m in \u001b[0;36m<module>\u001b[1;34m\u001b[0m\n\u001b[1;32m----> 1\u001b[1;33m \u001b[0mtupla\u001b[0m\u001b[1;33m[\u001b[0m\u001b[1;36m0\u001b[0m\u001b[1;33m]\u001b[0m\u001b[1;33m=\u001b[0m\u001b[1;36m9\u001b[0m \u001b[1;31m# Una tupla no se puede modificar un valor\u001b[0m\u001b[1;33m\u001b[0m\u001b[1;33m\u001b[0m\u001b[0m\n\u001b[0m",
      "\u001b[1;31mTypeError\u001b[0m: 'tuple' object does not support item assignment"
     ]
    }
   ],
   "source": [
    "tupla[0]=9 # Una tupla no se puede modificar un valor"
   ]
  },
  {
   "cell_type": "code",
   "execution_count": 18,
   "metadata": {},
   "outputs": [
    {
     "data": {
      "text/plain": [
       "4"
      ]
     },
     "execution_count": 18,
     "metadata": {},
     "output_type": "execute_result"
    }
   ],
   "source": [
    "len(tupla)"
   ]
  },
  {
   "cell_type": "code",
   "execution_count": 19,
   "metadata": {},
   "outputs": [
    {
     "data": {
      "text/plain": [
       "4"
      ]
     },
     "execution_count": 19,
     "metadata": {},
     "output_type": "execute_result"
    }
   ],
   "source": [
    "len(tupla[2])"
   ]
  },
  {
   "cell_type": "code",
   "execution_count": 20,
   "metadata": {},
   "outputs": [
    {
     "name": "stdout",
     "output_type": "stream",
     "text": [
      "Ingrese el número de filas: 3\n",
      "Ingrese el número de columnas: 4\n",
      "Ingrese el valor para la posición (1, 1): 3\n",
      "Ingrese el valor para la posición (1, 2): 4\n",
      "Ingrese el valor para la posición (1, 3): 5\n",
      "Ingrese el valor para la posición (1, 4): 4\n",
      "Ingrese el valor para la posición (2, 1): 1\n",
      "Ingrese el valor para la posición (2, 2): 3\n",
      "Ingrese el valor para la posición (2, 3): 4\n",
      "Ingrese el valor para la posición (2, 4): 5\n",
      "Ingrese el valor para la posición (3, 1): 1\n",
      "Ingrese el valor para la posición (3, 2): 3\n",
      "Ingrese el valor para la posición (3, 3): 13\n",
      "Ingrese el valor para la posición (3, 4): 13\n",
      "Matriz ingresada:\n",
      "[3, 4, 5, 4]\n",
      "[1, 3, 4, 5]\n",
      "[1, 3, 13, 13]\n"
     ]
    }
   ],
   "source": [
    "def crear_matriz(filas, columnas):\n",
    "    matriz = []\n",
    "    for i in range(filas):\n",
    "        fila = []\n",
    "        for j in range(columnas):\n",
    "            valor = int(input(f\"Ingrese el valor para la posición ({i+1}, {j+1}): \"))\n",
    "            fila.append(valor)\n",
    "        matriz.append(fila)\n",
    "    return matriz\n",
    "\n",
    "filas = int(input(\"Ingrese el número de filas: \"))\n",
    "columnas = int(input(\"Ingrese el número de columnas: \"))\n",
    "\n",
    "matriz = crear_matriz(filas, columnas)\n",
    "\n",
    "print(\"Matriz ingresada:\")\n",
    "for fila in matriz:\n",
    "    print(fila)"
   ]
  },
  {
   "cell_type": "code",
   "execution_count": 21,
   "metadata": {},
   "outputs": [
    {
     "data": {
      "text/plain": [
       "0"
      ]
     },
     "execution_count": 21,
     "metadata": {},
     "output_type": "execute_result"
    }
   ],
   "source": [
    "tupla.index(100)"
   ]
  },
  {
   "cell_type": "code",
   "execution_count": 23,
   "metadata": {},
   "outputs": [
    {
     "data": {
      "text/plain": [
       "100"
      ]
     },
     "execution_count": 23,
     "metadata": {},
     "output_type": "execute_result"
    }
   ],
   "source": [
    "tupla[0]"
   ]
  },
  {
   "cell_type": "code",
   "execution_count": 24,
   "metadata": {},
   "outputs": [
    {
     "data": {
      "text/plain": [
       "1"
      ]
     },
     "execution_count": 24,
     "metadata": {},
     "output_type": "execute_result"
    }
   ],
   "source": [
    "tupla.count(100)"
   ]
  },
  {
   "cell_type": "code",
   "execution_count": 25,
   "metadata": {},
   "outputs": [
    {
     "data": {
      "text/plain": [
       "1"
      ]
     },
     "execution_count": 25,
     "metadata": {},
     "output_type": "execute_result"
    }
   ],
   "source": [
    "tupla.count('Hola')"
   ]
  },
  {
   "cell_type": "code",
   "execution_count": 26,
   "metadata": {},
   "outputs": [],
   "source": [
    "# Tupla no se puede modificar"
   ]
  },
  {
   "cell_type": "code",
   "execution_count": 27,
   "metadata": {},
   "outputs": [
    {
     "ename": "TypeError",
     "evalue": "count() takes exactly one argument (0 given)",
     "output_type": "error",
     "traceback": [
      "\u001b[1;31m---------------------------------------------------------------------------\u001b[0m",
      "\u001b[1;31mTypeError\u001b[0m                                 Traceback (most recent call last)",
      "\u001b[1;32m<ipython-input-27-6291cf885f81>\u001b[0m in \u001b[0;36m<module>\u001b[1;34m\u001b[0m\n\u001b[1;32m----> 1\u001b[1;33m \u001b[0mtupla\u001b[0m\u001b[1;33m.\u001b[0m\u001b[0mcount\u001b[0m\u001b[1;33m(\u001b[0m\u001b[1;33m)\u001b[0m\u001b[1;33m\u001b[0m\u001b[1;33m\u001b[0m\u001b[0m\n\u001b[0m",
      "\u001b[1;31mTypeError\u001b[0m: count() takes exactly one argument (0 given)"
     ]
    }
   ],
   "source": [
    "tupla.count()"
   ]
  },
  {
   "cell_type": "code",
   "execution_count": 31,
   "metadata": {},
   "outputs": [
    {
     "name": "stdout",
     "output_type": "stream",
     "text": [
      "-50\n",
      "4\n",
      "0\n",
      "(100, 'Hola')\n",
      "[1, 2, 3, 4]\n",
      "0\n"
     ]
    }
   ],
   "source": [
    "print(tupla[-1])\n",
    "print(len(tupla))\n",
    "print(tupla.index(100))\n",
    "print(tupla[0:2])\n",
    "print(tupla[2])\n",
    "print(tupla.count(4))"
   ]
  },
  {
   "cell_type": "code",
   "execution_count": 32,
   "metadata": {},
   "outputs": [],
   "source": [
    "conjutno = set()"
   ]
  },
  {
   "cell_type": "code",
   "execution_count": 33,
   "metadata": {},
   "outputs": [],
   "source": [
    "conjunto={1,2,3}"
   ]
  },
  {
   "cell_type": "code",
   "execution_count": 34,
   "metadata": {},
   "outputs": [],
   "source": [
    "conjunto.add(4)"
   ]
  },
  {
   "cell_type": "code",
   "execution_count": 35,
   "metadata": {},
   "outputs": [],
   "source": [
    "conjunto.add('')"
   ]
  },
  {
   "cell_type": "code",
   "execution_count": 36,
   "metadata": {},
   "outputs": [],
   "source": [
    "conjunto.add(0)"
   ]
  },
  {
   "cell_type": "code",
   "execution_count": 37,
   "metadata": {},
   "outputs": [
    {
     "data": {
      "text/plain": [
       "{'', 0, 1, 2, 3, 4}"
      ]
     },
     "execution_count": 37,
     "metadata": {},
     "output_type": "execute_result"
    }
   ],
   "source": [
    "conjunto"
   ]
  },
  {
   "cell_type": "code",
   "execution_count": 38,
   "metadata": {},
   "outputs": [],
   "source": [
    "conjunto.add('A')"
   ]
  },
  {
   "cell_type": "code",
   "execution_count": 39,
   "metadata": {},
   "outputs": [
    {
     "data": {
      "text/plain": [
       "{'', 0, 1, 2, 3, 4, 'A'}"
      ]
     },
     "execution_count": 39,
     "metadata": {},
     "output_type": "execute_result"
    }
   ],
   "source": [
    "conjunto"
   ]
  },
  {
   "cell_type": "code",
   "execution_count": 40,
   "metadata": {},
   "outputs": [],
   "source": [
    "conjunto.add('Z')"
   ]
  },
  {
   "cell_type": "code",
   "execution_count": 41,
   "metadata": {},
   "outputs": [],
   "source": [
    "grupo={\"Hector\",\"Juan\",'Mario'}"
   ]
  },
  {
   "cell_type": "code",
   "execution_count": 42,
   "metadata": {},
   "outputs": [
    {
     "data": {
      "text/plain": [
       "True"
      ]
     },
     "execution_count": 42,
     "metadata": {},
     "output_type": "execute_result"
    }
   ],
   "source": [
    "\"Hector\" in grupo"
   ]
  },
  {
   "cell_type": "code",
   "execution_count": 43,
   "metadata": {},
   "outputs": [
    {
     "data": {
      "text/plain": [
       "False"
      ]
     },
     "execution_count": 43,
     "metadata": {},
     "output_type": "execute_result"
    }
   ],
   "source": [
    "\"Maria\" in grupo"
   ]
  },
  {
   "cell_type": "code",
   "execution_count": 44,
   "metadata": {},
   "outputs": [
    {
     "data": {
      "text/plain": [
       "False"
      ]
     },
     "execution_count": 44,
     "metadata": {},
     "output_type": "execute_result"
    }
   ],
   "source": [
    "\"Hector\" not in grupo"
   ]
  },
  {
   "cell_type": "code",
   "execution_count": 45,
   "metadata": {},
   "outputs": [],
   "source": [
    "test={'Hector','Hector','Hector'}"
   ]
  },
  {
   "cell_type": "code",
   "execution_count": 46,
   "metadata": {},
   "outputs": [
    {
     "data": {
      "text/plain": [
       "{'Hector'}"
      ]
     },
     "execution_count": 46,
     "metadata": {},
     "output_type": "execute_result"
    }
   ],
   "source": [
    "test"
   ]
  },
  {
   "cell_type": "code",
   "execution_count": 47,
   "metadata": {},
   "outputs": [],
   "source": [
    "l=[1,2,2,3,3,2,1]"
   ]
  },
  {
   "cell_type": "code",
   "execution_count": 48,
   "metadata": {},
   "outputs": [
    {
     "data": {
      "text/plain": [
       "[1, 2, 2, 3, 3, 2, 1]"
      ]
     },
     "execution_count": 48,
     "metadata": {},
     "output_type": "execute_result"
    }
   ],
   "source": [
    "l"
   ]
  },
  {
   "cell_type": "code",
   "execution_count": 49,
   "metadata": {},
   "outputs": [],
   "source": [
    "c=set(l)"
   ]
  },
  {
   "cell_type": "code",
   "execution_count": 50,
   "metadata": {},
   "outputs": [
    {
     "data": {
      "text/plain": [
       "{1, 2, 3}"
      ]
     },
     "execution_count": 50,
     "metadata": {},
     "output_type": "execute_result"
    }
   ],
   "source": [
    "c"
   ]
  },
  {
   "cell_type": "code",
   "execution_count": 51,
   "metadata": {},
   "outputs": [],
   "source": [
    "l=list(c)"
   ]
  },
  {
   "cell_type": "code",
   "execution_count": 63,
   "metadata": {},
   "outputs": [
    {
     "data": {
      "text/plain": [
       "[1, 2, 3]"
      ]
     },
     "execution_count": 63,
     "metadata": {},
     "output_type": "execute_result"
    }
   ],
   "source": [
    "l"
   ]
  },
  {
   "cell_type": "code",
   "execution_count": 53,
   "metadata": {},
   "outputs": [],
   "source": [
    "l=[1,2,2,3,3,2,1]"
   ]
  },
  {
   "cell_type": "code",
   "execution_count": 54,
   "metadata": {},
   "outputs": [],
   "source": [
    "l=list(set(l))"
   ]
  },
  {
   "cell_type": "code",
   "execution_count": 55,
   "metadata": {},
   "outputs": [
    {
     "data": {
      "text/plain": [
       "[1, 2, 3]"
      ]
     },
     "execution_count": 55,
     "metadata": {},
     "output_type": "execute_result"
    }
   ],
   "source": [
    "l"
   ]
  },
  {
   "cell_type": "code",
   "execution_count": 56,
   "metadata": {},
   "outputs": [
    {
     "data": {
      "text/plain": [
       "{' ', 'A', 'a', 'i', 'l', 'n', 'o', 'p', 'v', 'y'}"
      ]
     },
     "execution_count": 56,
     "metadata": {},
     "output_type": "execute_result"
    }
   ],
   "source": [
    "s=\"Al pan pan y al vino vino\"\n",
    "set(s)"
   ]
  },
  {
   "cell_type": "code",
   "execution_count": 57,
   "metadata": {},
   "outputs": [],
   "source": [
    "# Variables del ejercicio (no las modifiques)\n",
    "grupo = {\"Miguel\", \"Blanca\", \"Mario\", \"Andrés\"}\n",
    " \n",
    "# Completa el ejercicio\n",
    "for usuario in [\"Ana\", \"Ramón\", \"Marta\", \"Eric\", \"David\"]:\n",
    "    grupo.add(usuario)\n",
    " \n",
    "for usuario in [\"Mario\", \"Miguel\", \"Ramón\"]:\n",
    "    grupo.remove(usuario)"
   ]
  },
  {
   "cell_type": "code",
   "execution_count": 58,
   "metadata": {},
   "outputs": [
    {
     "data": {
      "text/plain": [
       "{'Ana', 'Andrés', 'Blanca', 'David', 'Eric', 'Marta'}"
      ]
     },
     "execution_count": 58,
     "metadata": {},
     "output_type": "execute_result"
    }
   ],
   "source": [
    "grupo"
   ]
  },
  {
   "cell_type": "code",
   "execution_count": 59,
   "metadata": {},
   "outputs": [],
   "source": [
    "vacio = {}"
   ]
  },
  {
   "cell_type": "code",
   "execution_count": 60,
   "metadata": {},
   "outputs": [
    {
     "data": {
      "text/plain": [
       "{}"
      ]
     },
     "execution_count": 60,
     "metadata": {},
     "output_type": "execute_result"
    }
   ],
   "source": [
    "vacio"
   ]
  },
  {
   "cell_type": "code",
   "execution_count": 61,
   "metadata": {},
   "outputs": [
    {
     "data": {
      "text/plain": [
       "dict"
      ]
     },
     "execution_count": 61,
     "metadata": {},
     "output_type": "execute_result"
    }
   ],
   "source": [
    "type(vacio)"
   ]
  },
  {
   "cell_type": "code",
   "execution_count": 62,
   "metadata": {},
   "outputs": [],
   "source": [
    "colores ={'amarillo':'yellow','azul':'blue','verde':'green'}"
   ]
  },
  {
   "cell_type": "code",
   "execution_count": 64,
   "metadata": {},
   "outputs": [
    {
     "data": {
      "text/plain": [
       "'yellow'"
      ]
     },
     "execution_count": 64,
     "metadata": {},
     "output_type": "execute_result"
    }
   ],
   "source": [
    "colores['amarillo']"
   ]
  },
  {
   "cell_type": "code",
   "execution_count": 66,
   "metadata": {},
   "outputs": [],
   "source": [
    "numeros = {10:'diez',20:'veinte'}"
   ]
  },
  {
   "cell_type": "code",
   "execution_count": 67,
   "metadata": {},
   "outputs": [
    {
     "data": {
      "text/plain": [
       "'diez'"
      ]
     },
     "execution_count": 67,
     "metadata": {},
     "output_type": "execute_result"
    }
   ],
   "source": [
    "numeros[10]"
   ]
  },
  {
   "cell_type": "code",
   "execution_count": 68,
   "metadata": {},
   "outputs": [],
   "source": [
    "colores['amarillo']='am'"
   ]
  },
  {
   "cell_type": "code",
   "execution_count": 69,
   "metadata": {},
   "outputs": [
    {
     "data": {
      "text/plain": [
       "{'amarillo': 'am', 'azul': 'blue', 'verde': 'green'}"
      ]
     },
     "execution_count": 69,
     "metadata": {},
     "output_type": "execute_result"
    }
   ],
   "source": [
    "colores"
   ]
  },
  {
   "cell_type": "code",
   "execution_count": 71,
   "metadata": {},
   "outputs": [],
   "source": [
    "del(colores['amarillo'])"
   ]
  },
  {
   "cell_type": "code",
   "execution_count": 72,
   "metadata": {},
   "outputs": [],
   "source": [
    "edades={'Hector':27,'Raul':19}"
   ]
  },
  {
   "cell_type": "code",
   "execution_count": 73,
   "metadata": {},
   "outputs": [],
   "source": [
    "edades['Raul']+=1"
   ]
  },
  {
   "cell_type": "code",
   "execution_count": 74,
   "metadata": {},
   "outputs": [
    {
     "data": {
      "text/plain": [
       "{'Hector': 27, 'Raul': 20}"
      ]
     },
     "execution_count": 74,
     "metadata": {},
     "output_type": "execute_result"
    }
   ],
   "source": [
    "edades"
   ]
  },
  {
   "cell_type": "code",
   "execution_count": 75,
   "metadata": {},
   "outputs": [
    {
     "name": "stdout",
     "output_type": "stream",
     "text": [
      "27\n",
      "20\n"
     ]
    }
   ],
   "source": [
    "for clave in edades:\n",
    "    print(edades[clave])"
   ]
  },
  {
   "cell_type": "code",
   "execution_count": 76,
   "metadata": {},
   "outputs": [
    {
     "name": "stdout",
     "output_type": "stream",
     "text": [
      "Hector 27\n",
      "Raul 20\n"
     ]
    }
   ],
   "source": [
    "for clave,valor in edades.items():\n",
    "    print(clave,valor)"
   ]
  },
  {
   "cell_type": "code",
   "execution_count": 77,
   "metadata": {},
   "outputs": [],
   "source": [
    "personajes = []"
   ]
  },
  {
   "cell_type": "code",
   "execution_count": 80,
   "metadata": {},
   "outputs": [],
   "source": [
    "p={'Nombre':'Gandalf', 'Clase':'Mago','Raza':'Humano'}"
   ]
  },
  {
   "cell_type": "code",
   "execution_count": 81,
   "metadata": {},
   "outputs": [],
   "source": [
    "personajes.append(p)"
   ]
  },
  {
   "cell_type": "code",
   "execution_count": 82,
   "metadata": {},
   "outputs": [
    {
     "data": {
      "text/plain": [
       "[{'Nombre': 'Gandalf', 'Clase': 'Mago', 'Raza': 'Humano'}]"
      ]
     },
     "execution_count": 82,
     "metadata": {},
     "output_type": "execute_result"
    }
   ],
   "source": [
    "personajes"
   ]
  },
  {
   "cell_type": "code",
   "execution_count": 83,
   "metadata": {},
   "outputs": [],
   "source": [
    "p={'Nombre':'Legolas', 'Clase':'Arquero','Raza':'Elfo'}"
   ]
  },
  {
   "cell_type": "code",
   "execution_count": 84,
   "metadata": {},
   "outputs": [],
   "source": [
    "personajes.append(p)"
   ]
  },
  {
   "cell_type": "code",
   "execution_count": 85,
   "metadata": {},
   "outputs": [],
   "source": [
    "pila = [3,4,5]"
   ]
  },
  {
   "cell_type": "code",
   "execution_count": 86,
   "metadata": {},
   "outputs": [],
   "source": [
    "pila.append(6)"
   ]
  },
  {
   "cell_type": "code",
   "execution_count": 87,
   "metadata": {},
   "outputs": [],
   "source": [
    "pila.append(7)"
   ]
  },
  {
   "cell_type": "code",
   "execution_count": 88,
   "metadata": {},
   "outputs": [
    {
     "data": {
      "text/plain": [
       "[3, 4, 5, 6, 7]"
      ]
     },
     "execution_count": 88,
     "metadata": {},
     "output_type": "execute_result"
    }
   ],
   "source": [
    "pila"
   ]
  },
  {
   "cell_type": "code",
   "execution_count": 90,
   "metadata": {},
   "outputs": [
    {
     "data": {
      "text/plain": [
       "7"
      ]
     },
     "execution_count": 90,
     "metadata": {},
     "output_type": "execute_result"
    }
   ],
   "source": [
    "pila.pop()"
   ]
  },
  {
   "cell_type": "code",
   "execution_count": 91,
   "metadata": {},
   "outputs": [
    {
     "data": {
      "text/plain": [
       "[3, 4, 5, 6]"
      ]
     },
     "execution_count": 91,
     "metadata": {},
     "output_type": "execute_result"
    }
   ],
   "source": [
    "pila"
   ]
  },
  {
   "cell_type": "code",
   "execution_count": 94,
   "metadata": {},
   "outputs": [],
   "source": [
    "n=pila.pop()"
   ]
  },
  {
   "cell_type": "code",
   "execution_count": 95,
   "metadata": {},
   "outputs": [
    {
     "data": {
      "text/plain": [
       "6"
      ]
     },
     "execution_count": 95,
     "metadata": {},
     "output_type": "execute_result"
    }
   ],
   "source": [
    "n\n"
   ]
  },
  {
   "cell_type": "code",
   "execution_count": 96,
   "metadata": {},
   "outputs": [
    {
     "data": {
      "text/plain": [
       "3"
      ]
     },
     "execution_count": 96,
     "metadata": {},
     "output_type": "execute_result"
    }
   ],
   "source": [
    "pila.pop()\n",
    "pila.pop()\n",
    "pila.pop()"
   ]
  },
  {
   "cell_type": "code",
   "execution_count": 98,
   "metadata": {},
   "outputs": [],
   "source": [
    "from collections import deque"
   ]
  },
  {
   "cell_type": "code",
   "execution_count": 101,
   "metadata": {},
   "outputs": [],
   "source": [
    "cola = deque()"
   ]
  },
  {
   "cell_type": "code",
   "execution_count": 102,
   "metadata": {},
   "outputs": [],
   "source": [
    "cola=deque(['Hector','Juan','Miguel'])"
   ]
  },
  {
   "cell_type": "code",
   "execution_count": 103,
   "metadata": {},
   "outputs": [
    {
     "data": {
      "text/plain": [
       "deque(['Hector', 'Juan', 'Miguel'])"
      ]
     },
     "execution_count": 103,
     "metadata": {},
     "output_type": "execute_result"
    }
   ],
   "source": [
    "cola"
   ]
  },
  {
   "cell_type": "code",
   "execution_count": 104,
   "metadata": {},
   "outputs": [],
   "source": [
    "cola.append('Maria')"
   ]
  },
  {
   "cell_type": "code",
   "execution_count": 105,
   "metadata": {},
   "outputs": [
    {
     "data": {
      "text/plain": [
       "deque(['Hector', 'Juan', 'Miguel', 'Maria'])"
      ]
     },
     "execution_count": 105,
     "metadata": {},
     "output_type": "execute_result"
    }
   ],
   "source": [
    "cola"
   ]
  },
  {
   "cell_type": "code",
   "execution_count": 106,
   "metadata": {},
   "outputs": [
    {
     "data": {
      "text/plain": [
       "'Hector'"
      ]
     },
     "execution_count": 106,
     "metadata": {},
     "output_type": "execute_result"
    }
   ],
   "source": [
    "cola.popleft()"
   ]
  },
  {
   "cell_type": "code",
   "execution_count": 107,
   "metadata": {},
   "outputs": [
    {
     "data": {
      "text/plain": [
       "deque(['Juan', 'Miguel', 'Maria'])"
      ]
     },
     "execution_count": 107,
     "metadata": {},
     "output_type": "execute_result"
    }
   ],
   "source": [
    "cola"
   ]
  },
  {
   "cell_type": "code",
   "execution_count": 108,
   "metadata": {},
   "outputs": [],
   "source": [
    "p=cola.popleft()"
   ]
  },
  {
   "cell_type": "code",
   "execution_count": 109,
   "metadata": {},
   "outputs": [
    {
     "data": {
      "text/plain": [
       "deque(['Miguel', 'Maria'])"
      ]
     },
     "execution_count": 109,
     "metadata": {},
     "output_type": "execute_result"
    }
   ],
   "source": [
    "cola"
   ]
  },
  {
   "cell_type": "code",
   "execution_count": 114,
   "metadata": {},
   "outputs": [
    {
     "name": "stdout",
     "output_type": "stream",
     "text": [
      "David no es admin\n",
      "Marta es admin\n",
      "Juan no es admin\n",
      "Marcos es admin\n",
      "Elvira no es admin\n"
     ]
    }
   ],
   "source": [
    "usuarios = {'Marta','David','Elvira','Juan','Marcos'}\n",
    "administradores = {'Juan','Marta'}\n",
    "\n",
    "administradores.discard('Juan')\n",
    "administradores.add('Marcos')\n",
    "for usuario in usuarios:\n",
    "    if usuario in administradores:\n",
    "        print(usuario, 'es admin')\n",
    "    else:\n",
    "        print(usuario,'no es admin')"
   ]
  },
  {
   "cell_type": "code",
   "execution_count": 115,
   "metadata": {},
   "outputs": [],
   "source": [
    "caballero = {'vida':2,'ataque':2,'defensa':2,'alcance':2}\n",
    "guerrero = {'vida':2,'ataque':2,'defensa':2,'alcance':2}\n",
    "arquero = {'vida':2,'ataque':2,'defensa':2,'alcance':2}\n",
    "\n",
    "caballero['vida']=guerrero['vida']*2\n",
    "caballero['defensa']=guerrero['defensa']*2\n",
    "\n",
    "\n",
    "guerrero['ataque']=caballero['ataque']*2\n",
    "guerrero['alcance']=caballero['alcance']*2\n",
    "\n",
    "\n"
   ]
  },
  {
   "cell_type": "code",
   "execution_count": 116,
   "metadata": {},
   "outputs": [
    {
     "name": "stdout",
     "output_type": "stream",
     "text": [
      "==Tareas desordenadas==\n",
      "6 Distribucion\n",
      "2 Diseño\n",
      "1 Concepcion\n",
      "7 Mantenimiento\n",
      "4 Produccion\n",
      "3 Planificacion\n",
      "5 Pruebas\n",
      "==Tareas ordenadas==\n",
      "Concepcion\n",
      "Diseño\n",
      "Planificacion\n",
      "Produccion\n",
      "Pruebas\n",
      "Distribucion\n",
      "Mantenimiento\n"
     ]
    }
   ],
   "source": [
    "tareas=[\n",
    "    [6,'Distribucion'],\n",
    "    [2,'Diseño'],\n",
    "    [1,'Concepcion'],\n",
    "    [7,'Mantenimiento'],\n",
    "    [4,'Produccion'],\n",
    "    [3,'Planificacion'],\n",
    "    [5,'Pruebas']\n",
    "]\n",
    "print ('==Tareas desordenadas==')\n",
    "for tarea in tareas:\n",
    "    print(tarea[0],tarea[1])\n",
    "    \n",
    "from collections import deque\n",
    "\n",
    "tareas.sort()\n",
    "cola =deque()\n",
    "for tarea in tareas:\n",
    "    cola.append(tarea[1])\n",
    "\n",
    "    \n",
    "print ('==Tareas ordenadas==')\n",
    "for tarea in cola:\n",
    "    print(tarea)"
   ]
  },
  {
   "cell_type": "code",
   "execution_count": null,
   "metadata": {},
   "outputs": [],
   "source": []
  },
  {
   "cell_type": "code",
   "execution_count": 117,
   "metadata": {},
   "outputs": [
    {
     "name": "stdout",
     "output_type": "stream",
     "text": [
      "\n",
      "Do you want to play? Y/N \n",
      "Y\n",
      "\n",
      "Write the size of the matrix (Number from 3 to 26)\n",
      "4\n",
      "\n",
      "Write the number of mines (Number from 1 to 12) \n",
      "3\n",
      "|    |   1    2    3    4  \n",
      "-------------------------\n",
      "| A  |   #    #    #    #  \n",
      "| B  |   #    #    #    #  \n",
      "| C  |   #    #    #    #  \n",
      "| D  |   #    #    #    #  \n",
      "-------------------------\n",
      "\n",
      "write the row (Letter from A to D) A\n",
      "write the column (Number from 1 to 4) 3\n",
      "\n",
      "|    |   1    2    3    4  \n",
      "-------------------------\n",
      "| A  |   #    #    1    #  \n",
      "| B  |   #    #    #    #  \n",
      "| C  |   #    #    #    #  \n",
      "| D  |   #    #    #    #  \n",
      "-------------------------\n",
      "\n",
      "write the row (Letter from A to D) B\n",
      "write the column (Number from 1 to 4) 2\n",
      "\n",
      "|    |   1    2    3    4  \n",
      "-------------------------\n",
      "| A  |   #    #    1    #  \n",
      "| B  |   #    2    #    #  \n",
      "| C  |   #    #    #    #  \n",
      "| D  |   #    #    #    #  \n",
      "-------------------------\n",
      "\n",
      "write the row (Letter from A to D) A\n",
      "write the column (Number from 1 to 4) 4\n",
      "\n",
      "|    |   1    2    3    4  \n",
      "-------------------------\n",
      "| A  |   #    #    1    0  \n",
      "| B  |   #    2    2    0  \n",
      "| C  |   #    #    1    0  \n",
      "| D  |   #    #    1    0  \n",
      "-------------------------\n",
      "\n",
      "write the row (Letter from A to D) A\n",
      "write the column (Number from 1 to 4) 1\n",
      "\n",
      "|    |   1    2    3    4  \n",
      "-------------------------\n",
      "| A  |   1    #    1    0  \n",
      "| B  |   #    2    2    0  \n",
      "| C  |   #    #    1    0  \n",
      "| D  |   #    #    1    0  \n",
      "-------------------------\n",
      "\n",
      "write the row (Letter from A to D) D1\n",
      "write the row (Letter from A to D) 1\n",
      "write the row (Letter from A to D) D\n",
      "write the column (Number from 1 to 4) 1\n",
      "\n",
      "You lose, You touch a mine\n",
      "\n",
      "|    |   1    2    3    4  \n",
      "-------------------------\n",
      "| A  |   1   -1    1    0  \n",
      "| B  |   2    2    2    0  \n",
      "| C  |   2   -1    1    0  \n",
      "| D  |  -1    2    1    0  \n",
      "-------------------------\n",
      "\n",
      "\n",
      "Do you want to play? Y/N \n",
      "N\n",
      "\n",
      "Have a nice day\n",
      "\n"
     ]
    }
   ],
   "source": [
    "import random\n",
    "\n",
    "def make_matrix(m,t,n=0):\n",
    "    for i in range(t):\n",
    "        m.append([])\n",
    "        for j in range(t):\n",
    "            m[i].append(n)\n",
    "\n",
    "def print_matrix(m,t):\n",
    "    print(f\"|  \", end=\"  | \")\n",
    "    for j in range(t):\n",
    "        print (f\"{j+1:3d}\", end=\"  \")\n",
    "    print()\n",
    "    print(\"-\"*t*5+\"-\"*5)\n",
    "    for i in range(t):\n",
    "        print(f\"| {letters[i]}\", end=\"  | \")\n",
    "        for j in range(t):\n",
    "            print (f\"{m[i][j]:3d}\", end=\"  \")\n",
    "        print()\n",
    "    print(\"-\"*t*5+\"-\"*5)\n",
    "    print()\n",
    "\n",
    "def put_mines(m,t,n_mines):\n",
    "    i = 0\n",
    "    while(i < n_mines):\n",
    "        a = random.randint(0, t-1) # genera un número entero entre a y b, ambos incluidos\n",
    "        b = random.randint(0, t-1) # genera un número entero entre a y b, ambos incluidos)\n",
    "        if (m[a][b]!=-1):\n",
    "            m[a][b]=-1\n",
    "            i+=1\n",
    "\n",
    "\n",
    "def count_mines(m,t):\n",
    "    count = 0\n",
    "    for i in range(t):\n",
    "        for  j in range(t):\n",
    "            if (m[i][j]==-1):\n",
    "                count+=1\n",
    "    return(count)\n",
    "\n",
    "\n",
    "def count_neighboring_mines(m,i,j,t):\n",
    "    c = 0\n",
    "    for x in range((i-1),(i-1+3)):\n",
    "        for y in range ((j-1),(3+j-1)):\n",
    "            if (x>=0 and y >= 0 and x < t and y < t):\n",
    "                if (m[x][y]==-1):\n",
    "                    c+=1\n",
    "    return c\n",
    "\n",
    "\n",
    "\n",
    "\n",
    "def put_numbers(m,t):\n",
    "    for i in range(t):\n",
    "        for  j in range(t):\n",
    "            if (m[i][j]!=-1):\n",
    "                m[i][j]=count_neighboring_mines(m,i,j,t)\n",
    "\n",
    "def print_while_playing(m,d,t):\n",
    "    character = \"#\"\n",
    "    print(f\"|  \", end=\"  | \")\n",
    "    for j in range(t):\n",
    "        print (f\"{j+1:3d}\", end=\"  \")\n",
    "    print()\n",
    "    print(\"-\"*t*5+\"-\"*5)\n",
    "    for i in range(t):\n",
    "        print(f\"| {letters[i]}\", end=\"  | \")\n",
    "        for j in range(t):\n",
    "            if (d[i][j]==0):\n",
    "                print(f\"  {character}\", end=\"  \")\n",
    "            else:\n",
    "                print (f\"{m[i][j]:3d}\", end=\"  \")\n",
    "        print()\n",
    "    print(\"-\"*t*5+\"-\"*5)\n",
    "    print()\n",
    "\n",
    "def discover(m,d,t,a,b):\n",
    "    if (m[a][b]==-1): # is a mine\n",
    "        return -1 # You lose\n",
    "    elif(d[a][b]==1):\n",
    "        return 0 # already discovered\n",
    "    else: # we have something that is not a mine\n",
    "        if (m[a][b]==0):\n",
    "            d[a][b]=1 # we discover a 0\n",
    "            for x in range((a-1),(a-1+3)):\n",
    "                for y in range ((b-1),(3+b-1)):\n",
    "                    if (x>=0 and y >= 0 and x < t and y < t):\n",
    "                        discover(m,d,t,x,y)\n",
    "        else:\n",
    "            d[a][b]=1 # we discover a n!=0\n",
    "\n",
    "\n",
    "def win(d,t,n_mines):\n",
    "    c = 0\n",
    "    for i in range(t):\n",
    "        for  j in range(t):\n",
    "            if (d[i][j]==1):\n",
    "                c+=1\n",
    "    if (c==t*t-n_mines):\n",
    "        return 1 # You win\n",
    "    else:\n",
    "        return 0 # Keep playing\n",
    "\n",
    "play = True\n",
    "answer = \"Y\"\n",
    "letters =[\"A\",\"B\",\"C\",\"D\",\"E\",\"F\",\"G\",\"H\",\"I\",\"J\",\"K\",\"L\",\"M\",\"N\",\"O\",\"P\",\"Q\",\"R\",\"S\",\"T\",\"U\",\"V\",\"W\",\"X\",\"Y\",\"Z\"]\n",
    "letters_dic = {}\n",
    "for i in range(1,27):\n",
    "    letters_dic.update({letters[i-1]:i})\n",
    "\n",
    "# print(letters_dic)\n",
    "# print(letters_dic[\"A\"])\n",
    "while (play==True):\n",
    "    tam = 0\n",
    "    number_of_mines = 0\n",
    "    lose = False\n",
    "    wining = False\n",
    "    answer = input(\"\\nDo you want to play? Y/N \\n\")\n",
    "    if (answer==\"Y\" or answer==\"y\"):\n",
    "        while (tam < 3 or tam > 26):\n",
    "            tam = int(input(\"\\nWrite the size of the matrix (Number from 3 to 26)\\n\"))\n",
    "            \n",
    "        max_number_mines = int(tam*tam*0.75)\n",
    "        while (number_of_mines < 1 or number_of_mines > max_number_mines):\n",
    "            number_of_mines = int(input(f\"\\nWrite the number of mines (Number from 1 to {max_number_mines}) \\n\"))\n",
    "        matrix = []\n",
    "        discovered  = []\n",
    "        make_matrix(matrix,tam)\n",
    "        make_matrix(discovered ,tam)\n",
    "        # print_matrix(matrix,tam)\n",
    "        # print_matrix(discovered ,tam)\n",
    "        put_mines(matrix,tam,number_of_mines) # put_mines(m,t,n_mines):\n",
    "        # print_matrix(matrix ,tam)\n",
    "        # print(count_mines(matrix,tam))\n",
    "        put_numbers(matrix,tam)\n",
    "        # print_matrix(matrix ,tam) # ! To cheat\n",
    "        print_while_playing(matrix,discovered,tam)\n",
    "        while (lose==False and wining==False ):\n",
    "            letter_a = input(f\"write the row (Letter from A to {letters[tam-1]}) \")\n",
    "            try:\n",
    "                letter_a = letter_a.upper()\n",
    "            except:\n",
    "                letter_a = \"ABCD123\"    \n",
    "            \n",
    "            while (letter_a not in letters[0:tam]):\n",
    "                letter_a = input(f\"write the row (Letter from A to {letters[tam-1]}) \")\n",
    "                try:\n",
    "                    letter_a = letter_a.upper()\n",
    "                except:\n",
    "                    letter_a = \"ABCD123\"\n",
    "\n",
    "            \n",
    "            a = letters_dic[letter_a.upper()]\n",
    "            a-=1\n",
    "\n",
    "            b = int(input(f\"write the column (Number from 1 to {tam}) \"))\n",
    "            while (b<1 or b>tam):\n",
    "                b = int(input(f\"write the column (Number from 1 to {tam}) \"))\n",
    "            b-=1\n",
    "\n",
    "            if (matrix[a][b]==-1):\n",
    "                print(\"\\nYou lose, You touch a mine\\n\")\n",
    "                print_matrix(matrix ,tam)\n",
    "                lose = True\n",
    "            else:\n",
    "                discover(matrix,discovered,tam,a,b)\n",
    "                if (win(discovered,tam,number_of_mines)):\n",
    "                    print(\"\\nCongratulations You win\\n\")\n",
    "                    wining = True\n",
    "                print()\n",
    "                print_while_playing(matrix,discovered,tam)\n",
    "       Y         \n",
    "    elif (answer==\"N\" or answer==\"n\"):\n",
    "        print(\"\\nHave a nice day\\n\")\n",
    "        play=False\n",
    "    else:\n",
    "        print(\"\\nPlease write Y or N \\n\")"
   ]
  },
  {
   "cell_type": "code",
   "execution_count": 1,
   "metadata": {},
   "outputs": [
    {
     "data": {
      "text/plain": [
       "10"
      ]
     },
     "execution_count": 1,
     "metadata": {},
     "output_type": "execute_result"
    }
   ],
   "source": [
    "def doblar_valor(numero):\n",
    "    numero*=2\n",
    "\n",
    "n=10\n",
    "doblar_valor(n)\n",
    "n"
   ]
  },
  {
   "cell_type": "code",
   "execution_count": 2,
   "metadata": {},
   "outputs": [
    {
     "data": {
      "text/plain": [
       "[20, 100, 200]"
      ]
     },
     "execution_count": 2,
     "metadata": {},
     "output_type": "execute_result"
    }
   ],
   "source": [
    "def doblar_valores(numeros):\n",
    "    for i,n in enumerate(numeros):\n",
    "        numeros[i]*=2\n",
    "\n",
    "ns=[10,50,100]\n",
    "doblar_valores(ns)\n",
    "ns"
   ]
  },
  {
   "cell_type": "code",
   "execution_count": 3,
   "metadata": {},
   "outputs": [
    {
     "data": {
      "text/plain": [
       "20"
      ]
     },
     "execution_count": 3,
     "metadata": {},
     "output_type": "execute_result"
    }
   ],
   "source": [
    "def doblar_valor(numero):\n",
    "    return numero*2\n",
    "n = 10\n",
    "n = doblar_valor(n)\n",
    "n"
   ]
  },
  {
   "cell_type": "code",
   "execution_count": 4,
   "metadata": {},
   "outputs": [],
   "source": [
    "def doblar_valores(numeros):\n",
    "    for i,n in enumerate(numeros):\n",
    "        numeros[i]*=2\n",
    "\n",
    "ns=[10,50,100]\n",
    "doblar_valores(ns[:])\n",
    "ns\n",
    "a=doblar_valores(ns[:])\n",
    "a"
   ]
  },
  {
   "cell_type": "code",
   "execution_count": 5,
   "metadata": {},
   "outputs": [],
   "source": [
    "a"
   ]
  },
  {
   "cell_type": "code",
   "execution_count": 6,
   "metadata": {},
   "outputs": [
    {
     "data": {
      "text/plain": [
       "[10, 50, 100]"
      ]
     },
     "execution_count": 6,
     "metadata": {},
     "output_type": "execute_result"
    }
   ],
   "source": [
    "ns"
   ]
  },
  {
   "cell_type": "code",
   "execution_count": 10,
   "metadata": {},
   "outputs": [],
   "source": [
    "lista1 = [1,2,3,4,5]"
   ]
  },
  {
   "cell_type": "code",
   "execution_count": 11,
   "metadata": {},
   "outputs": [],
   "source": [
    "lista2 = lista1"
   ]
  },
  {
   "cell_type": "code",
   "execution_count": 12,
   "metadata": {},
   "outputs": [],
   "source": [
    "lista1[0]=1000"
   ]
  },
  {
   "cell_type": "code",
   "execution_count": 13,
   "metadata": {},
   "outputs": [
    {
     "data": {
      "text/plain": [
       "[1000, 2, 3, 4, 5]"
      ]
     },
     "execution_count": 13,
     "metadata": {},
     "output_type": "execute_result"
    }
   ],
   "source": [
    "lista2"
   ]
  },
  {
   "cell_type": "code",
   "execution_count": 14,
   "metadata": {},
   "outputs": [
    {
     "data": {
      "text/plain": [
       "[1000, 2, 3, 4, 5]"
      ]
     },
     "execution_count": 14,
     "metadata": {},
     "output_type": "execute_result"
    }
   ],
   "source": [
    "lista1"
   ]
  },
  {
   "cell_type": "code",
   "execution_count": 17,
   "metadata": {},
   "outputs": [],
   "source": [
    "def memoria(obj):\n",
    "    print(f\"{hex(id(obj))}\")"
   ]
  },
  {
   "cell_type": "code",
   "execution_count": 18,
   "metadata": {},
   "outputs": [],
   "source": [
    "a=1\n",
    "b=23"
   ]
  },
  {
   "cell_type": "code",
   "execution_count": 19,
   "metadata": {},
   "outputs": [
    {
     "name": "stdout",
     "output_type": "stream",
     "text": [
      "0x14fe8d78100\n"
     ]
    }
   ],
   "source": [
    "memoria(lista1)"
   ]
  },
  {
   "cell_type": "code",
   "execution_count": 20,
   "metadata": {},
   "outputs": [
    {
     "name": "stdout",
     "output_type": "stream",
     "text": [
      "0x14fe8d78100\n"
     ]
    }
   ],
   "source": [
    "memoria(lista2)"
   ]
  },
  {
   "cell_type": "code",
   "execution_count": 21,
   "metadata": {},
   "outputs": [
    {
     "name": "stdout",
     "output_type": "stream",
     "text": [
      "0x7ffcc4683720\n"
     ]
    }
   ],
   "source": [
    "memoria(a)"
   ]
  },
  {
   "cell_type": "code",
   "execution_count": 22,
   "metadata": {},
   "outputs": [
    {
     "name": "stdout",
     "output_type": "stream",
     "text": [
      "0x7ffcc46839e0\n"
     ]
    }
   ],
   "source": [
    "memoria(b)"
   ]
  },
  {
   "cell_type": "code",
   "execution_count": 23,
   "metadata": {},
   "outputs": [
    {
     "name": "stdout",
     "output_type": "stream",
     "text": [
      "(5, 'Hola', {1, 2, 3, 4})\n"
     ]
    }
   ],
   "source": [
    "def indeterminados_posicion(*args):\n",
    "    print(args)\n",
    "\n",
    "indeterminados_posicion(5,\"Hola\",{1,2,3,4})"
   ]
  },
  {
   "cell_type": "code",
   "execution_count": 25,
   "metadata": {},
   "outputs": [
    {
     "name": "stdout",
     "output_type": "stream",
     "text": [
      "5\n",
      "Hola\n",
      "{1, 2, 3, 4}\n"
     ]
    }
   ],
   "source": [
    "def indeterminados_posicion(*args):\n",
    "    for arg in args:\n",
    "        print(arg)\n",
    "\n",
    "indeterminados_posicion(5,\"Hola\",{1,2,3,4})"
   ]
  },
  {
   "cell_type": "code",
   "execution_count": 27,
   "metadata": {},
   "outputs": [
    {
     "name": "stdout",
     "output_type": "stream",
     "text": [
      "{'n': 5, 'c': 'Hola', 'i': {1, 2, 3, 4}}\n"
     ]
    }
   ],
   "source": [
    "def indeterminados_nombre(**kwargs):\n",
    "    print(kwargs)\n",
    "\n",
    "indeterminados_nombre(n=5,c=\"Hola\",i={1,2,3,4})"
   ]
  },
  {
   "cell_type": "code",
   "execution_count": 28,
   "metadata": {},
   "outputs": [
    {
     "name": "stdout",
     "output_type": "stream",
     "text": [
      "n\n",
      "c\n",
      "i\n"
     ]
    }
   ],
   "source": [
    "def indeterminados_nombre(**kwargs):\n",
    "    for kwarg in kwargs:\n",
    "        print(kwarg)\n",
    "\n",
    "indeterminados_nombre(n=5,c=\"Hola\",i={1,2,3,4})"
   ]
  },
  {
   "cell_type": "code",
   "execution_count": 29,
   "metadata": {},
   "outputs": [
    {
     "name": "stdout",
     "output_type": "stream",
     "text": [
      "n   5\n",
      "c   Hola\n",
      "i   {1, 2, 3, 4}\n"
     ]
    }
   ],
   "source": [
    "def indeterminados_nombre(**kwargs):\n",
    "    for kwarg in kwargs:\n",
    "        print(kwarg, \" \",kwargs[kwarg])\n",
    "\n",
    "indeterminados_nombre(n=5,c=\"Hola\",i={1,2,3,4})"
   ]
  },
  {
   "cell_type": "code",
   "execution_count": 30,
   "metadata": {},
   "outputs": [
    {
     "name": "stdout",
     "output_type": "stream",
     "text": [
      "Sumatorio indeterminado es 60.56\n",
      "nombre   Hector\n",
      "edad   27\n"
     ]
    }
   ],
   "source": [
    "def super_funcion(*args,**kwargs):\n",
    "    t=0\n",
    "    for arg in args:\n",
    "        t+=arg\n",
    "    print(\"Sumatorio indeterminado es\",t)\n",
    "    for kwarg in kwargs:\n",
    "        print(kwarg, \" \",kwargs[kwarg])\n",
    "\n",
    "super_funcion(10,50,-1,1.56,nombre=\"Hector\",edad=27)"
   ]
  },
  {
   "cell_type": "code",
   "execution_count": 32,
   "metadata": {},
   "outputs": [
    {
     "name": "stdout",
     "output_type": "stream",
     "text": [
      "4\n",
      "3\n",
      "2\n",
      "1\n",
      "Boooom!!\n",
      "Fin de la funcion 0\n",
      "Fin de la funcion 1\n",
      "Fin de la funcion 2\n",
      "Fin de la funcion 3\n",
      "Fin de la funcion 4\n"
     ]
    }
   ],
   "source": [
    "def cuenta_atras(num):\n",
    "    num-=1\n",
    "    if num > 0:\n",
    "        print(num)\n",
    "        cuenta_atras(num)\n",
    "    else:\n",
    "        print(\"Boooom!!\")\n",
    "    print(\"Fin de la funcion\",num)\n",
    "\n",
    "cuenta_atras(5)"
   ]
  },
  {
   "cell_type": "code",
   "execution_count": 37,
   "metadata": {},
   "outputs": [
    {
     "name": "stdout",
     "output_type": "stream",
     "text": [
      "valor inicial ->  5\n",
      "valor inicial ->  4\n",
      "valor inicial ->  3\n",
      "valor inicial ->  2\n",
      "valor inicial ->  1\n",
      "valor final ->  1\n",
      "valor final ->  2\n",
      "valor final ->  6\n",
      "valor final ->  24\n",
      "valor final ->  120\n"
     ]
    },
    {
     "data": {
      "text/plain": [
       "120"
      ]
     },
     "execution_count": 37,
     "metadata": {},
     "output_type": "execute_result"
    }
   ],
   "source": [
    "def factorial(num):\n",
    "    print (\"valor inicial -> \",num)\n",
    "    if num > 1:\n",
    "        num = num*factorial(num -1)\n",
    "    print (\"valor final -> \",num)\n",
    "    return num\n",
    "factorial(5)"
   ]
  },
  {
   "cell_type": "code",
   "execution_count": 39,
   "metadata": {},
   "outputs": [
    {
     "data": {
      "text/plain": [
       "210"
      ]
     },
     "execution_count": 39,
     "metadata": {},
     "output_type": "execute_result"
    }
   ],
   "source": [
    "# Completa el ejercicio\n",
    "def sumatorio(numero):\n",
    "    if numero>1:\n",
    "        numero=numero+sumatorio(numero-1)\n",
    "    return numero\n",
    "\n",
    "sumatorio(20)"
   ]
  },
  {
   "cell_type": "code",
   "execution_count": 40,
   "metadata": {},
   "outputs": [],
   "source": [
    "n = \"10\"\n",
    "n=int(10)"
   ]
  },
  {
   "cell_type": "code",
   "execution_count": 41,
   "metadata": {},
   "outputs": [
    {
     "data": {
      "text/plain": [
       "int"
      ]
     },
     "execution_count": 41,
     "metadata": {},
     "output_type": "execute_result"
    }
   ],
   "source": [
    "type(n)"
   ]
  },
  {
   "cell_type": "code",
   "execution_count": 42,
   "metadata": {},
   "outputs": [],
   "source": [
    "c=\"un texto y un numero\" + str(10) + \" \" + str(3.14)"
   ]
  },
  {
   "cell_type": "code",
   "execution_count": 43,
   "metadata": {},
   "outputs": [
    {
     "data": {
      "text/plain": [
       "'un texto y un numero10 3.14'"
      ]
     },
     "execution_count": 43,
     "metadata": {},
     "output_type": "execute_result"
    }
   ],
   "source": [
    "c"
   ]
  },
  {
   "cell_type": "code",
   "execution_count": 44,
   "metadata": {},
   "outputs": [
    {
     "data": {
      "text/plain": [
       "'0b1010'"
      ]
     },
     "execution_count": 44,
     "metadata": {},
     "output_type": "execute_result"
    }
   ],
   "source": [
    "bin(10)"
   ]
  },
  {
   "cell_type": "code",
   "execution_count": 45,
   "metadata": {},
   "outputs": [
    {
     "data": {
      "text/plain": [
       "'0xa'"
      ]
     },
     "execution_count": 45,
     "metadata": {},
     "output_type": "execute_result"
    }
   ],
   "source": [
    "hex(10)"
   ]
  },
  {
   "cell_type": "code",
   "execution_count": 46,
   "metadata": {},
   "outputs": [
    {
     "data": {
      "text/plain": [
       "10"
      ]
     },
     "execution_count": 46,
     "metadata": {},
     "output_type": "execute_result"
    }
   ],
   "source": [
    "int('0b1010',2)"
   ]
  },
  {
   "cell_type": "code",
   "execution_count": 47,
   "metadata": {},
   "outputs": [
    {
     "data": {
      "text/plain": [
       "10"
      ]
     },
     "execution_count": 47,
     "metadata": {},
     "output_type": "execute_result"
    }
   ],
   "source": [
    "int('0xa',16)"
   ]
  },
  {
   "cell_type": "code",
   "execution_count": 48,
   "metadata": {},
   "outputs": [
    {
     "data": {
      "text/plain": [
       "10"
      ]
     },
     "execution_count": 48,
     "metadata": {},
     "output_type": "execute_result"
    }
   ],
   "source": [
    "abs(-10)"
   ]
  },
  {
   "cell_type": "code",
   "execution_count": 49,
   "metadata": {},
   "outputs": [
    {
     "data": {
      "text/plain": [
       "6"
      ]
     },
     "execution_count": 49,
     "metadata": {},
     "output_type": "execute_result"
    }
   ],
   "source": [
    "round(5.5)"
   ]
  },
  {
   "cell_type": "code",
   "execution_count": 50,
   "metadata": {},
   "outputs": [
    {
     "data": {
      "text/plain": [
       "7"
      ]
     },
     "execution_count": 50,
     "metadata": {},
     "output_type": "execute_result"
    }
   ],
   "source": [
    "eval(\"2+5\")"
   ]
  },
  {
   "cell_type": "code",
   "execution_count": 51,
   "metadata": {},
   "outputs": [
    {
     "data": {
      "text/plain": [
       "105"
      ]
     },
     "execution_count": 51,
     "metadata": {},
     "output_type": "execute_result"
    }
   ],
   "source": [
    "n=10\n",
    "eval(\"n*10+5\")"
   ]
  },
  {
   "cell_type": "code",
   "execution_count": 52,
   "metadata": {},
   "outputs": [
    {
     "data": {
      "text/plain": [
       "10"
      ]
     },
     "execution_count": 52,
     "metadata": {},
     "output_type": "execute_result"
    }
   ],
   "source": [
    "len(\"Una cadena\")"
   ]
  },
  {
   "cell_type": "code",
   "execution_count": 58,
   "metadata": {},
   "outputs": [
    {
     "data": {
      "text/plain": [
       "(5, 10, 20)"
      ]
     },
     "execution_count": 58,
     "metadata": {},
     "output_type": "execute_result"
    }
   ],
   "source": [
    "def test(num):\n",
    "   return num, num*2, num*4\n",
    " \n",
    "test(5)"
   ]
  },
  {
   "cell_type": "code",
   "execution_count": 59,
   "metadata": {},
   "outputs": [
    {
     "name": "stdout",
     "output_type": "stream",
     "text": [
      "(5, 10, 20)\n"
     ]
    }
   ],
   "source": [
    "print(test(5))"
   ]
  },
  {
   "cell_type": "code",
   "execution_count": 1,
   "metadata": {},
   "outputs": [
    {
     "name": "stdout",
     "output_type": "stream",
     "text": [
      "12\n"
     ]
    }
   ],
   "source": [
    "def area_rectangulo(base,altura):\n",
    "    return base*altura\n",
    "\n",
    "print(area_rectangulo(3,4))"
   ]
  },
  {
   "cell_type": "code",
   "execution_count": 2,
   "metadata": {},
   "outputs": [
    {
     "name": "stdout",
     "output_type": "stream",
     "text": [
      "3.141592653589793\n"
     ]
    }
   ],
   "source": [
    "import math\n",
    "print (math.pi)"
   ]
  },
  {
   "cell_type": "code",
   "execution_count": 3,
   "metadata": {},
   "outputs": [
    {
     "name": "stdout",
     "output_type": "stream",
     "text": [
      "78.53981633974483\n"
     ]
    }
   ],
   "source": [
    "import math\n",
    "def area_circulo(radio):\n",
    "    return (radio**2)*math.pi\n",
    "print(area_circulo(5))"
   ]
  },
  {
   "cell_type": "code",
   "execution_count": 4,
   "metadata": {},
   "outputs": [
    {
     "name": "stdout",
     "output_type": "stream",
     "text": [
      "-1\n",
      "1\n",
      "0\n"
     ]
    }
   ],
   "source": [
    "def relacion(a,b):\n",
    "    if a>b:\n",
    "        return 1\n",
    "    elif a<b:\n",
    "        return -1\n",
    "    else:\n",
    "        return 0\n",
    "print(relacion(5,10))\n",
    "print(relacion(10,5))\n",
    "print(relacion(4,4))"
   ]
  },
  {
   "cell_type": "code",
   "execution_count": 5,
   "metadata": {},
   "outputs": [
    {
     "data": {
      "text/plain": [
       "6.0"
      ]
     },
     "execution_count": 5,
     "metadata": {},
     "output_type": "execute_result"
    }
   ],
   "source": [
    "def intermedio(a,b):\n",
    "    return (a+b)/2\n",
    "intermedio(-12,24)\n"
   ]
  },
  {
   "cell_type": "code",
   "execution_count": 6,
   "metadata": {},
   "outputs": [
    {
     "name": "stdout",
     "output_type": "stream",
     "text": [
      "15\n"
     ]
    }
   ],
   "source": [
    "def recortar(numero,minimo,maximo):\n",
    "    if numero<minimo:\n",
    "        return minimo\n",
    "    elif numero>maximo:\n",
    "        return maximo\n",
    "    return numero\n",
    "print(recortar(15,0,16))"
   ]
  },
  {
   "cell_type": "code",
   "execution_count": 8,
   "metadata": {},
   "outputs": [
    {
     "name": "stdout",
     "output_type": "stream",
     "text": [
      "[-12, 12, 30, 34]\n",
      "[-33, 9, 101]\n"
     ]
    }
   ],
   "source": [
    "numeros = [-12,34,12,30,-33,101,9]\n",
    "def separar(lista):\n",
    "    lista.sort()\n",
    "    pares=[]\n",
    "    impares=[]\n",
    "    for n in lista:\n",
    "        if n%2==0:\n",
    "            pares.append(n)\n",
    "        else:\n",
    "            impares.append(n)\n",
    "    return pares, impares\n",
    "\n",
    "pares, impares = separar(numeros)\n",
    "print(pares)\n",
    "print(impares)\n"
   ]
  },
  {
   "cell_type": "code",
   "execution_count": 15,
   "metadata": {},
   "outputs": [
    {
     "name": "stdout",
     "output_type": "stream",
     "text": [
      "Introduce un número 3\n",
      "3.0/4=0.75\n"
     ]
    }
   ],
   "source": [
    "try:  \n",
    "    n=float(input(\"Introduce un número \"))\n",
    "    m=4\n",
    "    print(\"{}/{}={}\".format(n,m,n/m))\n",
    "except:\n",
    "    print(\"Error\")"
   ]
  },
  {
   "cell_type": "code",
   "execution_count": 16,
   "metadata": {},
   "outputs": [
    {
     "name": "stdout",
     "output_type": "stream",
     "text": [
      "Introduce un número 4\n",
      "4.0/4=1.0\n"
     ]
    }
   ],
   "source": [
    "while(True):\n",
    "    try: \n",
    "        n=float(input(\"Introduce un número \"))\n",
    "        m=4\n",
    "        print(\"{}/{}={}\".format(n,m,n/m))\n",
    "        break\n",
    "    except:\n",
    "        print(\"Error\")"
   ]
  },
  {
   "cell_type": "code",
   "execution_count": 17,
   "metadata": {},
   "outputs": [
    {
     "name": "stdout",
     "output_type": "stream",
     "text": [
      "Introduce un número 3\n",
      "3.0/4=0.75\n",
      "Todo correcto\n"
     ]
    }
   ],
   "source": [
    "while(True):\n",
    "    try: \n",
    "        n=float(input(\"Introduce un número \"))\n",
    "        m=4\n",
    "        print(\"{}/{}={}\".format(n,m,n/m))\n",
    "    except:\n",
    "        print(\"Error\")\n",
    "    else:\n",
    "        print(\"Todo correcto\")\n",
    "        break"
   ]
  },
  {
   "cell_type": "code",
   "execution_count": 18,
   "metadata": {},
   "outputs": [
    {
     "name": "stdout",
     "output_type": "stream",
     "text": [
      "Introduce un número aaaa\n",
      "Error\n",
      "Fin de la interacion\n",
      "Introduce un número 2\n",
      "2.0/4=0.5\n",
      "Todo correcto\n",
      "Fin de la interacion\n"
     ]
    }
   ],
   "source": [
    "while(True):\n",
    "    try: \n",
    "        n=float(input(\"Introduce un número \"))\n",
    "        m=4\n",
    "        print(\"{}/{}={}\".format(n,m,n/m))\n",
    "    except:\n",
    "        print(\"Error\")\n",
    "    else:\n",
    "        print(\"Todo correcto\")\n",
    "        break\n",
    "    finally:\n",
    "        print(\"Fin de la interacion\")"
   ]
  },
  {
   "cell_type": "code",
   "execution_count": 20,
   "metadata": {},
   "outputs": [
    {
     "name": "stdout",
     "output_type": "stream",
     "text": [
      "Introduce un número: 11\n",
      "TypeError\n"
     ]
    }
   ],
   "source": [
    "try:\n",
    "    n=input(\"Introduce un número: \")\n",
    "    5/n\n",
    "except Exception as e:\n",
    "    print (type(e).__name__)"
   ]
  },
  {
   "cell_type": "code",
   "execution_count": 21,
   "metadata": {},
   "outputs": [
    {
     "name": "stdout",
     "output_type": "stream",
     "text": [
      "Introduce un número: aaa\n",
      "ValueError\n"
     ]
    }
   ],
   "source": [
    "try:\n",
    "    n=float(input(\"Introduce un número: \"))\n",
    "    5/n\n",
    "except TypeError:\n",
    "    print(\"No se puede dividir el numero por una cadena\")\n",
    "except Exception as e:\n",
    "    print(type(e).__name__)"
   ]
  },
  {
   "cell_type": "code",
   "execution_count": 22,
   "metadata": {},
   "outputs": [
    {
     "name": "stdout",
     "output_type": "stream",
     "text": [
      "Introduce un número: aaa\n",
      "Debes introducir una cadena que sea un numero\n"
     ]
    }
   ],
   "source": [
    "try:\n",
    "    n=float(input(\"Introduce un número: \"))\n",
    "    5/n\n",
    "except TypeError:\n",
    "    print(\"No se puede dividir el numero por una cadena\")\n",
    "except ValueError:\n",
    "    print(\"Debes introducir una cadena que sea un numero\")\n",
    "except Exception as e:\n",
    "    print(type(e).__name__)"
   ]
  },
  {
   "cell_type": "code",
   "execution_count": 23,
   "metadata": {},
   "outputs": [
    {
     "name": "stdout",
     "output_type": "stream",
     "text": [
      "Introduce un número: 0\n",
      "ZeroDivisionError\n"
     ]
    }
   ],
   "source": [
    "try:\n",
    "    n=float(input(\"Introduce un número: \"))\n",
    "    5/n\n",
    "except TypeError:\n",
    "    print(\"No se puede dividir el numero por una cadena\")\n",
    "except ValueError:\n",
    "    print(\"Debes introducir una cadena que sea un numero\")\n",
    "except Exception as e:\n",
    "    print(type(e).__name__)"
   ]
  },
  {
   "cell_type": "code",
   "execution_count": 24,
   "metadata": {},
   "outputs": [
    {
     "name": "stdout",
     "output_type": "stream",
     "text": [
      "Introduce un número: 0\n",
      "No se puede devidir entre cero, prueba otro numero\n"
     ]
    }
   ],
   "source": [
    "try:\n",
    "    n=float(input(\"Introduce un número: \"))\n",
    "    5/n\n",
    "except TypeError:\n",
    "    print(\"No se puede dividir el numero por una cadena\")\n",
    "except ValueError:\n",
    "    print(\"Debes introducir una cadena que sea un numero\")\n",
    "except ZeroDivisionError:\n",
    "    print(\"No se puede devidir entre cero, prueba otro numero\")\n",
    "except Exception as e:\n",
    "    print(type(e).__name__)"
   ]
  },
  {
   "cell_type": "code",
   "execution_count": 25,
   "metadata": {},
   "outputs": [],
   "source": [
    "def mi_funcion(algo=None):\n",
    "    if algo is None:\n",
    "        print(\"Error no se permite un valor nulo\")\n",
    "\n",
    "mi_funcion(\"algo\")"
   ]
  },
  {
   "cell_type": "code",
   "execution_count": 26,
   "metadata": {},
   "outputs": [
    {
     "name": "stdout",
     "output_type": "stream",
     "text": [
      "Error no se permite un valor nulo\n"
     ]
    }
   ],
   "source": [
    "mi_funcion()"
   ]
  },
  {
   "cell_type": "code",
   "execution_count": 29,
   "metadata": {},
   "outputs": [
    {
     "name": "stdout",
     "output_type": "stream",
     "text": [
      "Error! No se permite un valor nulo, desde la excepcion\n"
     ]
    }
   ],
   "source": [
    "def mi_funcion(algo=None):\n",
    "    try:\n",
    "        if algo is None:\n",
    "            raise ValueError(\"Error! No se permite un valor nulo\")\n",
    "    except ValueError :\n",
    "            print(\"Error! No se permite un valor nulo, desde la excepcion\")\n",
    "mi_funcion()\n"
   ]
  },
  {
   "cell_type": "code",
   "execution_count": 30,
   "metadata": {},
   "outputs": [
    {
     "name": "stdout",
     "output_type": "stream",
     "text": [
      "Error: No es posible dividir entre 0\n"
     ]
    }
   ],
   "source": [
    "try:\n",
    "    resultado = 10/0\n",
    "except ZeroDivisionError:\n",
    "    print(\"Error: No es posible dividir entre 0\")"
   ]
  },
  {
   "cell_type": "code",
   "execution_count": 33,
   "metadata": {},
   "outputs": [
    {
     "ename": "IndexError",
     "evalue": "list index out of range",
     "output_type": "error",
     "traceback": [
      "\u001b[1;31m---------------------------------------------------------------------------\u001b[0m",
      "\u001b[1;31mIndexError\u001b[0m                                Traceback (most recent call last)",
      "\u001b[1;32m<ipython-input-33-76067b85b1a4>\u001b[0m in \u001b[0;36m<module>\u001b[1;34m\u001b[0m\n\u001b[0;32m      1\u001b[0m \u001b[0mlista\u001b[0m\u001b[1;33m=\u001b[0m\u001b[1;33m[\u001b[0m\u001b[1;36m1\u001b[0m\u001b[1;33m,\u001b[0m\u001b[1;36m2\u001b[0m\u001b[1;33m,\u001b[0m\u001b[1;36m3\u001b[0m\u001b[1;33m,\u001b[0m\u001b[1;36m4\u001b[0m\u001b[1;33m,\u001b[0m\u001b[1;36m5\u001b[0m\u001b[1;33m]\u001b[0m\u001b[1;33m\u001b[0m\u001b[1;33m\u001b[0m\u001b[0m\n\u001b[1;32m----> 2\u001b[1;33m \u001b[0mlista\u001b[0m\u001b[1;33m[\u001b[0m\u001b[1;36m10\u001b[0m\u001b[1;33m]\u001b[0m\u001b[1;33m\u001b[0m\u001b[1;33m\u001b[0m\u001b[0m\n\u001b[0m",
      "\u001b[1;31mIndexError\u001b[0m: list index out of range"
     ]
    }
   ],
   "source": [
    "lista=[1,2,3,4,5]\n",
    "lista[10]"
   ]
  },
  {
   "cell_type": "code",
   "execution_count": 34,
   "metadata": {},
   "outputs": [
    {
     "name": "stdout",
     "output_type": "stream",
     "text": [
      "Error el indice se encuentra fuera de rango\n"
     ]
    }
   ],
   "source": [
    "lista=[1,2,3,4,5]\n",
    "try:\n",
    "    lista[10]\n",
    "except IndexError:\n",
    "    print(\"Error el indice se encuentra fuera de rango\")"
   ]
  },
  {
   "cell_type": "code",
   "execution_count": 35,
   "metadata": {
    "scrolled": true
   },
   "outputs": [
    {
     "ename": "KeyError",
     "evalue": "'blanco'",
     "output_type": "error",
     "traceback": [
      "\u001b[1;31m---------------------------------------------------------------------------\u001b[0m",
      "\u001b[1;31mKeyError\u001b[0m                                  Traceback (most recent call last)",
      "\u001b[1;32m<ipython-input-35-876b5014461a>\u001b[0m in \u001b[0;36m<module>\u001b[1;34m\u001b[0m\n\u001b[0;32m      1\u001b[0m \u001b[0mcolores\u001b[0m\u001b[1;33m=\u001b[0m\u001b[1;33m{\u001b[0m\u001b[1;34m'rojo'\u001b[0m\u001b[1;33m:\u001b[0m\u001b[1;34m'red'\u001b[0m\u001b[1;33m,\u001b[0m\u001b[1;34m'verde'\u001b[0m\u001b[1;33m:\u001b[0m\u001b[1;34m'green'\u001b[0m\u001b[1;33m,\u001b[0m\u001b[1;34m'negro'\u001b[0m\u001b[1;33m:\u001b[0m\u001b[1;34m'black'\u001b[0m\u001b[1;33m}\u001b[0m\u001b[1;33m\u001b[0m\u001b[1;33m\u001b[0m\u001b[0m\n\u001b[1;32m----> 2\u001b[1;33m \u001b[0mcolores\u001b[0m\u001b[1;33m[\u001b[0m\u001b[1;34m'blanco'\u001b[0m\u001b[1;33m]\u001b[0m\u001b[1;33m\u001b[0m\u001b[1;33m\u001b[0m\u001b[0m\n\u001b[0m",
      "\u001b[1;31mKeyError\u001b[0m: 'blanco'"
     ]
    }
   ],
   "source": [
    "colores={'rojo':'red','verde':'green','negro':'black'}\n",
    "colores['blanco']\n"
   ]
  },
  {
   "cell_type": "code",
   "execution_count": 36,
   "metadata": {},
   "outputs": [
    {
     "name": "stdout",
     "output_type": "stream",
     "text": [
      "Error: La clave del diccionario no se encuentra\n"
     ]
    }
   ],
   "source": [
    "colores={'rojo':'red','verde':'green','negro':'black'}\n",
    "try:\n",
    "    colores['blanco']\n",
    "except KeyError: \n",
    "    print(\"Error: La clave del diccionario no se encuentra\")"
   ]
  },
  {
   "cell_type": "code",
   "execution_count": 38,
   "metadata": {},
   "outputs": [
    {
     "name": "stdout",
     "output_type": "stream",
     "text": [
      "Error: Imposible añadir duplicados -> -2\n",
      "[1, 5, -2, 10, 'Hola']\n"
     ]
    }
   ],
   "source": [
    "elementos = [1,5,-2]\n",
    "def agregar_una_vez(lista,el):\n",
    "    try:\n",
    "        if el in lista:\n",
    "            raise ValueError\n",
    "        else:\n",
    "            lista.append(el)\n",
    "    except ValueError:\n",
    "        print(\"Error: Imposible añadir duplicados -> {}\".format(el))\n",
    "\n",
    "agregar_una_vez(elementos,10)\n",
    "agregar_una_vez(elementos,-2)\n",
    "agregar_una_vez(elementos,\"Hola\")\n",
    "print(elementos)"
   ]
  },
  {
   "cell_type": "code",
   "execution_count": null,
   "metadata": {},
   "outputs": [],
   "source": []
  }
 ],
 "metadata": {
  "kernelspec": {
   "display_name": "Python 3",
   "language": "python",
   "name": "python3"
  },
  "language_info": {
   "codemirror_mode": {
    "name": "ipython",
    "version": 3
   },
   "file_extension": ".py",
   "mimetype": "text/x-python",
   "name": "python",
   "nbconvert_exporter": "python",
   "pygments_lexer": "ipython3",
   "version": "3.8.3"
  }
 },
 "nbformat": 4,
 "nbformat_minor": 4
}
