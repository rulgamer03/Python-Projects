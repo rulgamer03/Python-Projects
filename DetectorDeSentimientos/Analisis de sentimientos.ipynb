{
 "cells": [
  {
   "cell_type": "code",
   "execution_count": 3,
   "metadata": {},
   "outputs": [],
   "source": [
    "from textblob import TextBlob"
   ]
  },
  {
   "cell_type": "markdown",
   "metadata": {},
   "source": [
    "# Esto solo es un ejercicio de practica\n"
   ]
  },
  {
   "cell_type": "code",
   "execution_count": 13,
   "metadata": {},
   "outputs": [
    {
     "name": "stdout",
     "output_type": "stream",
     "text": [
      "Sony's Xperia phone has an excellent resolution screen, and is also very fast\n",
      "Sentiment(polarity=0.63, subjectivity=0.89)\n"
     ]
    }
   ],
   "source": [
    "# Positiva y subjetiva\n",
    "t=TextBlob(\"El teléfono Xperia de Sony, tiene una pantalla de excelente resolución, además es muy rápido\")\n",
    "ten = t.translate(to = \"en\")\n",
    "print(ten)\n",
    "print(ten.sentiment)"
   ]
  },
  {
   "cell_type": "code",
   "execution_count": 12,
   "metadata": {},
   "outputs": [
    {
     "name": "stdout",
     "output_type": "stream",
     "text": [
      "Sony's Xperia phone has a high-resolution screen, plus it's fast\n",
      "Sentiment(polarity=0.2, subjectivity=0.6)\n"
     ]
    }
   ],
   "source": [
    "# Positiva y objetiva\n",
    "t=TextBlob(\"El teléfono Xperia de Sony, tiene una pantalla con alta resolución, además es rápido\")\n",
    "ten = t.translate(to = \"en\")\n",
    "print(ten)\n",
    "print(ten.sentiment)"
   ]
  },
  {
   "cell_type": "code",
   "execution_count": 11,
   "metadata": {},
   "outputs": [
    {
     "name": "stdout",
     "output_type": "stream",
     "text": [
      "Sony's Xperia phone has a high resolution screen, plus it's fast, I love it <3 :)\n",
      "Sentiment(polarity=0.472, subjectivity=0.748)\n"
     ]
    }
   ],
   "source": [
    "#Positiva, muy subjetiva\n",
    "t=TextBlob(\"El teléfono Xperia de Sony, tiene una pantalla con alta resolución, además es rápido, me encanta <3 :)\")\n",
    "ten = t.translate(to = \"en\")\n",
    "print(ten)\n",
    "print(ten.sentiment)"
   ]
  },
  {
   "cell_type": "code",
   "execution_count": 10,
   "metadata": {},
   "outputs": [
    {
     "name": "stdout",
     "output_type": "stream",
     "text": [
      "Sony's Xperia phone is the best, I love it :)\n",
      "Sentiment(polarity=0.6666666666666666, subjectivity=0.6333333333333333)\n"
     ]
    }
   ],
   "source": [
    "#Muy Positiva, y muy muy subjetiva\n",
    "t=TextBlob(\"El teléfono Xperia de Sony, es lo máximo, lo adoro :)\")\n",
    "ten = t.translate(to = \"en\")\n",
    "print(ten)\n",
    "print(ten.sentiment)"
   ]
  },
  {
   "cell_type": "code",
   "execution_count": 9,
   "metadata": {},
   "outputs": [
    {
     "name": "stdout",
     "output_type": "stream",
     "text": [
      "This program, according to the standards, does all the necessary calculations\n",
      "Sentiment(polarity=0.0, subjectivity=1.0)\n"
     ]
    }
   ],
   "source": [
    "#Objetivo\n",
    "#Muy Positiva, y muy muy subjetiva\n",
    "t=TextBlob(\"Este programa, según los estándares hace todo los cálculos necesarios\")\n",
    "ten = t.translate(to = \"en\")\n",
    "print(ten)\n",
    "print(ten.sentiment)"
   ]
  },
  {
   "cell_type": "code",
   "execution_count": 8,
   "metadata": {},
   "outputs": [
    {
     "name": "stdout",
     "output_type": "stream",
     "text": [
      "I don't like Windows XP, :(\n",
      "Sentiment(polarity=-0.75, subjectivity=1.0)\n"
     ]
    }
   ],
   "source": [
    "#Negativa, media objetiva\n",
    "t=TextBlob(\"No me gusta Windows XP, :(\")\n",
    "ten = t.translate(to = \"en\")\n",
    "print(ten)\n",
    "print(ten.sentiment)"
   ]
  },
  {
   "cell_type": "code",
   "execution_count": 7,
   "metadata": {},
   "outputs": [
    {
     "name": "stdout",
     "output_type": "stream",
     "text": [
      "I do not like Windows XP, I think it is very slow\n",
      "Sentiment(polarity=-0.39000000000000007, subjectivity=0.52)\n"
     ]
    }
   ],
   "source": [
    "#Negativa, media objetiva\n",
    "t=TextBlob(\"No me gusta Windows XP, creo que es muy lento\")\n",
    "ten = t.translate(to = \"en\")\n",
    "print(ten)\n",
    "print(ten.sentiment)"
   ]
  },
  {
   "cell_type": "code",
   "execution_count": 6,
   "metadata": {},
   "outputs": [
    {
     "name": "stdout",
     "output_type": "stream",
     "text": [
      "It is frustrating to use Windows XP, slow, with ads and it uses up all memory\n",
      "Sentiment(polarity=-0.35000000000000003, subjectivity=0.65)\n"
     ]
    }
   ],
   "source": [
    "# Muy negtiva, más objetiva\n",
    "t=TextBlob(\"Es frustante utilizar Windows XP, lento, con anuncios y se gasta toda la memoria\")\n",
    "ten = t.translate(to = \"en\")\n",
    "print(ten)\n",
    "print(ten.sentiment)"
   ]
  },
  {
   "cell_type": "code",
   "execution_count": 5,
   "metadata": {},
   "outputs": [
    {
     "name": "stdout",
     "output_type": "stream",
     "text": [
      "Escribe una oración en españolEs frustante utilizar Windows XP, lento, con anuncios y se gasta toda la memoria\n",
      "It is frustrating to use Windows XP, slow, with ads and it uses up all memory\n",
      "Sentiment(polarity=-0.35000000000000003, subjectivity=0.65)\n"
     ]
    }
   ],
   "source": [
    "text = input(\"Escribe una oración en español\")\n",
    "t=TextBlob(text)\n",
    "ten = t.translate(to = \"en\")\n",
    "print(ten)\n",
    "print(ten.sentiment)"
   ]
  }
 ],
 "metadata": {
  "kernelspec": {
   "display_name": "Python 3",
   "language": "python",
   "name": "python3"
  },
  "language_info": {
   "codemirror_mode": {
    "name": "ipython",
    "version": 3
   },
   "file_extension": ".py",
   "mimetype": "text/x-python",
   "name": "python",
   "nbconvert_exporter": "python",
   "pygments_lexer": "ipython3",
   "version": "3.8.3"
  }
 },
 "nbformat": 4,
 "nbformat_minor": 4
}
