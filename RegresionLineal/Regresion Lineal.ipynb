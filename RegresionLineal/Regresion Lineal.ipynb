{
 "cells": [
  {
   "cell_type": "markdown",
   "id": "5a0b35c5",
   "metadata": {},
   "source": [
    "## Regresión lineal\n",
    "La idea consiste en obtener un ecuacion de la forma \n",
    "\n",
    "$ y = mx+b $ \n",
    "\n",
    "que mejor se ajuste a los datos que se tengan \n",
    "\n",
    "Tenemos que\n",
    "\n",
    "$ m=\\frac{\\sum_{}^{}x\\sum_{}^{}y - n\\sum_{}^{}(xy) }{(\\sum_{}^{}x)^2-n\\sum_{}^{}x^2} $\n",
    "\n",
    "y\n",
    "\n",
    "$ b = \\overline{y}-m\\overline{x} $\n",
    "\n",
    "El coeficiente de correlacion se calcula como\n",
    "\n",
    "$ R = \\frac{\\sigma_{xy}}{\\sigma_x \\sigma_y} $\n",
    "\n",
    "donde\n",
    "\n",
    "$ \\sigma_{x} = \\sqrt{\\frac{\\sum_{}^{}(x^2)}{n}-\\overline{x}^2}$\n",
    "\n",
    "$ \\sigma_{y} = \\sqrt{\\frac{\\sum_{}^{}(y^2)}{n}-\\overline{y}^2}$\n",
    "\n",
    "$\\sigma_{xy} = \\frac{\\sum_{}^{}(xy)}{n}-\\overline{x} \\cdot \\overline{y}$\n",
    "\n",
    "(desviaciones típicas y covarianza, respectivamente)\n"
   ]
  },
  {
   "cell_type": "code",
   "execution_count": 1,
   "id": "5c1bb7c8",
   "metadata": {},
   "outputs": [
    {
     "data": {
      "text/plain": [
       "True"
      ]
     },
     "execution_count": 1,
     "metadata": {},
     "output_type": "execute_result"
    }
   ],
   "source": [
    "# datos\n",
    "x = [1, 2, 3, 4, 5, 6, 7, 8, 9, 10, 11, 12, 13, 14 ,15]\n",
    "y = [1, 2, 2, 4, 5, 4, 6, 4, 6, 7, 9, 10, 11, 12, 10]\n",
    "len(x) == len(y)"
   ]
  },
  {
   "cell_type": "code",
   "execution_count": 2,
   "id": "6182c68b",
   "metadata": {},
   "outputs": [],
   "source": [
    "import numpy as np\n",
    "import matplotlib.pyplot as plt\n"
   ]
  },
  {
   "cell_type": "code",
   "execution_count": 3,
   "id": "b057f53a",
   "metadata": {},
   "outputs": [
    {
     "name": "stderr",
     "output_type": "stream",
     "text": [
      "UsageError: Line magic function `%` not found.\n"
     ]
    }
   ],
   "source": [
    "% matplotlib inline\n",
    "% config InlineBackend.figure_format = 'svg'"
   ]
  },
  {
   "cell_type": "code",
   "execution_count": 4,
   "id": "91dfa38b",
   "metadata": {},
   "outputs": [
    {
     "data": {
      "text/plain": [
       "15"
      ]
     },
     "execution_count": 4,
     "metadata": {},
     "output_type": "execute_result"
    }
   ],
   "source": [
    "n = len(x)\n",
    "n"
   ]
  },
  {
   "cell_type": "code",
   "execution_count": 5,
   "id": "5808cd1b",
   "metadata": {},
   "outputs": [],
   "source": [
    "x = np.array(x)\n",
    "y = np.array(y)\n",
    "sumx = sum(x)\n",
    "sumy = sum(y)\n",
    "sumx2 = sum(x*x)\n",
    "sumy2 = sum (y*y)\n",
    "sumxy = sum(x*y)\n",
    "promx = sumx/n# x con linea arriba\n",
    "promy = sumy/n"
   ]
  },
  {
   "cell_type": "code",
   "execution_count": 6,
   "id": "ba413d4d",
   "metadata": {},
   "outputs": [
    {
     "data": {
      "text/plain": [
       "(0.75, 0.20000000000000018)"
      ]
     },
     "execution_count": 6,
     "metadata": {},
     "output_type": "execute_result"
    }
   ],
   "source": [
    "m = (sumx*sumy - n * sumxy)/(sumx**2 - n*sumx2)\n",
    "b = (promy - m*promx)\n",
    "m, b"
   ]
  },
  {
   "cell_type": "code",
   "execution_count": 8,
   "id": "f8573964",
   "metadata": {},
   "outputs": [
    {
     "data": {
      "image/png": "[encoded data removed]",
      "text/plain": [
       "<Figure size 432x288 with 1 Axes>"
      ]
     },
     "metadata": {
      "needs_background": "light"
     },
     "output_type": "display_data"
    }
   ],
   "source": [
    "plt.plot(x, y, 'o', label='Datos')\n",
    "plt.plot(x, m*x+b, label='Ajuste')\n",
    "plt.xlabel('x')\n",
    "plt.xlabel('y')\n",
    "plt.title('Mi primera regresión lineal')\n",
    "plt.grid()\n",
    "plt.legend(loc=4)\n",
    "plt.show()\n"
   ]
  },
  {
   "cell_type": "code",
   "execution_count": 9,
   "id": "243a4b92",
   "metadata": {},
   "outputs": [
    {
     "data": {
      "text/plain": [
       "0.9135730858468682"
      ]
     },
     "execution_count": 9,
     "metadata": {},
     "output_type": "execute_result"
    }
   ],
   "source": [
    "sigmax = np.sqrt(sumx2/n - promx**2)\n",
    "sigmay = np.sqrt(sumy2/n - promy**2)\n",
    "sigmaxy = sumxy / n - promx * promy\n",
    "R2 = (sigmaxy/(sigmax*sigmay))**2\n",
    "R2"
   ]
  },
  {
   "cell_type": "code",
   "execution_count": 11,
   "id": "7dce4251",
   "metadata": {},
   "outputs": [
    {
     "name": "stdout",
     "output_type": "stream",
     "text": [
      "0.75x+0.20000000000000018\n"
     ]
    }
   ],
   "source": [
    "print(f\"{m}x+{b}\")"
   ]
  },
  {
   "cell_type": "markdown",
   "id": "9da0b227",
   "metadata": {},
   "source": [
    "[Reference](https://www.youtube.com/watch?v=Sv5IJ1AjjSU)"
   ]
  },
  {
   "cell_type": "code",
   "execution_count": null,
   "id": "bf54897f",
   "metadata": {},
   "outputs": [],
   "source": []
  }
 ],
 "metadata": {
  "kernelspec": {
   "display_name": "Python 3",
   "language": "python",
   "name": "python3"
  },
  "language_info": {
   "codemirror_mode": {
    "name": "ipython",
    "version": 3
   },
   "file_extension": ".py",
   "mimetype": "text/x-python",
   "name": "python",
   "nbconvert_exporter": "python",
   "pygments_lexer": "ipython3",
   "version": "3.9.5"
  }
 },
 "nbformat": 4,
 "nbformat_minor": 5
}
